{
 "cells": [
  {
   "cell_type": "code",
   "execution_count": 35,
   "metadata": {
    "collapsed": true
   },
   "outputs": [],
   "source": [
    "import pandas as pd"
   ]
  },
  {
   "cell_type": "code",
   "execution_count": 36,
   "metadata": {
    "collapsed": true
   },
   "outputs": [],
   "source": [
    "survey_df = pd.read_csv(\"/Users/aparajita/Downloads/Survey_Data.csv\")"
   ]
  },
  {
   "cell_type": "code",
   "execution_count": 37,
   "metadata": {},
   "outputs": [
    {
     "data": {
      "text/html": [
       "<div>\n",
       "<style>\n",
       "    .dataframe thead tr:only-child th {\n",
       "        text-align: right;\n",
       "    }\n",
       "\n",
       "    .dataframe thead th {\n",
       "        text-align: left;\n",
       "    }\n",
       "\n",
       "    .dataframe tbody tr th {\n",
       "        vertical-align: top;\n",
       "    }\n",
       "</style>\n",
       "<table border=\"1\" class=\"dataframe\">\n",
       "  <thead>\n",
       "    <tr style=\"text-align: right;\">\n",
       "      <th></th>\n",
       "      <th>CommentId</th>\n",
       "      <th>SurveyId</th>\n",
       "      <th>Comment</th>\n",
       "    </tr>\n",
       "  </thead>\n",
       "  <tbody>\n",
       "    <tr>\n",
       "      <th>0</th>\n",
       "      <td>a0fA0000000K0zoIAC</td>\n",
       "      <td>a0gA0000003C2FsIAK</td>\n",
       "      <td>NaN</td>\n",
       "    </tr>\n",
       "    <tr>\n",
       "      <th>1</th>\n",
       "      <td>a0fA0000000K0zpIAC</td>\n",
       "      <td>a0gA0000003C2FsIAK</td>\n",
       "      <td>NaN</td>\n",
       "    </tr>\n",
       "    <tr>\n",
       "      <th>2</th>\n",
       "      <td>a0fA0000000K0zqIAC</td>\n",
       "      <td>a0gA0000003C2FsIAK</td>\n",
       "      <td>NaN</td>\n",
       "    </tr>\n",
       "    <tr>\n",
       "      <th>3</th>\n",
       "      <td>a0fA0000000K0zrIAC</td>\n",
       "      <td>a0gA0000003C2FsIAK</td>\n",
       "      <td>NaN</td>\n",
       "    </tr>\n",
       "    <tr>\n",
       "      <th>4</th>\n",
       "      <td>a0fA0000000K0zsIAC</td>\n",
       "      <td>a0gA0000003C2FsIAK</td>\n",
       "      <td>NaN</td>\n",
       "    </tr>\n",
       "  </tbody>\n",
       "</table>\n",
       "</div>"
      ],
      "text/plain": [
       "            CommentId            SurveyId Comment\n",
       "0  a0fA0000000K0zoIAC  a0gA0000003C2FsIAK     NaN\n",
       "1  a0fA0000000K0zpIAC  a0gA0000003C2FsIAK     NaN\n",
       "2  a0fA0000000K0zqIAC  a0gA0000003C2FsIAK     NaN\n",
       "3  a0fA0000000K0zrIAC  a0gA0000003C2FsIAK     NaN\n",
       "4  a0fA0000000K0zsIAC  a0gA0000003C2FsIAK     NaN"
      ]
     },
     "execution_count": 37,
     "metadata": {},
     "output_type": "execute_result"
    }
   ],
   "source": [
    "survey_df.head()"
   ]
  },
  {
   "cell_type": "code",
   "execution_count": 38,
   "metadata": {},
   "outputs": [
    {
     "data": {
      "text/html": [
       "<div>\n",
       "<style>\n",
       "    .dataframe thead tr:only-child th {\n",
       "        text-align: right;\n",
       "    }\n",
       "\n",
       "    .dataframe thead th {\n",
       "        text-align: left;\n",
       "    }\n",
       "\n",
       "    .dataframe tbody tr th {\n",
       "        vertical-align: top;\n",
       "    }\n",
       "</style>\n",
       "<table border=\"1\" class=\"dataframe\">\n",
       "  <thead>\n",
       "    <tr style=\"text-align: right;\">\n",
       "      <th></th>\n",
       "      <th>CommentId</th>\n",
       "      <th>SurveyId</th>\n",
       "      <th>Comment</th>\n",
       "    </tr>\n",
       "  </thead>\n",
       "  <tbody>\n",
       "    <tr>\n",
       "      <th>0</th>\n",
       "      <td>a0fA0000000K0zoIAC</td>\n",
       "      <td>a0gA0000003C2FsIAK</td>\n",
       "      <td>NaN</td>\n",
       "    </tr>\n",
       "    <tr>\n",
       "      <th>1</th>\n",
       "      <td>a0fA0000000K0zpIAC</td>\n",
       "      <td>a0gA0000003C2FsIAK</td>\n",
       "      <td>NaN</td>\n",
       "    </tr>\n",
       "    <tr>\n",
       "      <th>2</th>\n",
       "      <td>a0fA0000000K0zqIAC</td>\n",
       "      <td>a0gA0000003C2FsIAK</td>\n",
       "      <td>NaN</td>\n",
       "    </tr>\n",
       "    <tr>\n",
       "      <th>3</th>\n",
       "      <td>a0fA0000000K0zrIAC</td>\n",
       "      <td>a0gA0000003C2FsIAK</td>\n",
       "      <td>NaN</td>\n",
       "    </tr>\n",
       "    <tr>\n",
       "      <th>4</th>\n",
       "      <td>a0fA0000000K0zsIAC</td>\n",
       "      <td>a0gA0000003C2FsIAK</td>\n",
       "      <td>NaN</td>\n",
       "    </tr>\n",
       "  </tbody>\n",
       "</table>\n",
       "</div>"
      ],
      "text/plain": [
       "            CommentId            SurveyId Comment\n",
       "0  a0fA0000000K0zoIAC  a0gA0000003C2FsIAK     NaN\n",
       "1  a0fA0000000K0zpIAC  a0gA0000003C2FsIAK     NaN\n",
       "2  a0fA0000000K0zqIAC  a0gA0000003C2FsIAK     NaN\n",
       "3  a0fA0000000K0zrIAC  a0gA0000003C2FsIAK     NaN\n",
       "4  a0fA0000000K0zsIAC  a0gA0000003C2FsIAK     NaN"
      ]
     },
     "execution_count": 38,
     "metadata": {},
     "output_type": "execute_result"
    }
   ],
   "source": [
    "survey_df[survey_df['SurveyId'] == 'a0gA0000003C2FsIAK'].head()"
   ]
  },
  {
   "cell_type": "code",
   "execution_count": 6,
   "metadata": {},
   "outputs": [
    {
     "data": {
      "text/html": [
       "<div>\n",
       "<style>\n",
       "    .dataframe thead tr:only-child th {\n",
       "        text-align: right;\n",
       "    }\n",
       "\n",
       "    .dataframe thead th {\n",
       "        text-align: left;\n",
       "    }\n",
       "\n",
       "    .dataframe tbody tr th {\n",
       "        vertical-align: top;\n",
       "    }\n",
       "</style>\n",
       "<table border=\"1\" class=\"dataframe\">\n",
       "  <thead>\n",
       "    <tr style=\"text-align: right;\">\n",
       "      <th></th>\n",
       "      <th>CommentId</th>\n",
       "      <th>SurveyId</th>\n",
       "      <th>Comment</th>\n",
       "    </tr>\n",
       "  </thead>\n",
       "  <tbody>\n",
       "    <tr>\n",
       "      <th>0</th>\n",
       "      <td>a0fA0000000K0zoIAC</td>\n",
       "      <td>a0gA0000003C2FsIAK</td>\n",
       "      <td>NaN</td>\n",
       "    </tr>\n",
       "  </tbody>\n",
       "</table>\n",
       "</div>"
      ],
      "text/plain": [
       "            CommentId            SurveyId Comment\n",
       "0  a0fA0000000K0zoIAC  a0gA0000003C2FsIAK     NaN"
      ]
     },
     "execution_count": 6,
     "metadata": {},
     "output_type": "execute_result"
    }
   ],
   "source": [
    "survey_df[(survey_df['SurveyId'] == 'a0gA0000003C2FsIAK') & (survey_df['CommentId'] == 'a0fA0000000K0zoIAC')].head()"
   ]
  },
  {
   "cell_type": "markdown",
   "metadata": {},
   "source": [
    "## Data Cleaning & Prep"
   ]
  },
  {
   "cell_type": "code",
   "execution_count": 7,
   "metadata": {},
   "outputs": [
    {
     "data": {
      "text/plain": [
       "(63841, 3)"
      ]
     },
     "execution_count": 7,
     "metadata": {},
     "output_type": "execute_result"
    }
   ],
   "source": [
    "survey_df.shape"
   ]
  },
  {
   "cell_type": "code",
   "execution_count": 8,
   "metadata": {},
   "outputs": [
    {
     "data": {
      "text/plain": [
       "117"
      ]
     },
     "execution_count": 8,
     "metadata": {},
     "output_type": "execute_result"
    }
   ],
   "source": [
    "survey_df['SurveyId'].nunique()"
   ]
  },
  {
   "cell_type": "code",
   "execution_count": 9,
   "metadata": {},
   "outputs": [
    {
     "data": {
      "text/plain": [
       "63841"
      ]
     },
     "execution_count": 9,
     "metadata": {},
     "output_type": "execute_result"
    }
   ],
   "source": [
    "survey_df['CommentId'].nunique()"
   ]
  },
  {
   "cell_type": "code",
   "execution_count": 11,
   "metadata": {},
   "outputs": [
    {
     "data": {
      "text/plain": [
       "a0gA0000000JYNXIA4    8412\n",
       "a0gA0000006H6eUIAS    4967\n",
       "a0gA0000000JKG5IAO    4654\n",
       "a0gA0000003C2FsIAK    3765\n",
       "a0gA0000000JKGAIA4    3593\n",
       "a0gA0000000Is79IAC    3382\n",
       "a0gA0000005CpPyIAK    2698\n",
       "a0gA0000005Ckb6IAC    2302\n",
       "a0gA0000005CkbBIAS    2273\n",
       "a0gA0000000JL6GIAW    2215\n",
       "Name: SurveyId, dtype: int64"
      ]
     },
     "execution_count": 11,
     "metadata": {},
     "output_type": "execute_result"
    }
   ],
   "source": [
    "survey_df['SurveyId'].value_counts().head(10)"
   ]
  },
  {
   "cell_type": "code",
   "execution_count": 12,
   "metadata": {},
   "outputs": [
    {
     "data": {
      "text/plain": [
       "(54815, 3)"
      ]
     },
     "execution_count": 12,
     "metadata": {},
     "output_type": "execute_result"
    }
   ],
   "source": [
    "survey_df[pd.isnull(survey_df['Comment'])].shape"
   ]
  },
  {
   "cell_type": "code",
   "execution_count": 13,
   "metadata": {
    "collapsed": true
   },
   "outputs": [],
   "source": [
    "survey_df_clean = survey_df[~pd.isnull(survey_df['Comment'])].copy()"
   ]
  },
  {
   "cell_type": "code",
   "execution_count": 14,
   "metadata": {},
   "outputs": [
    {
     "data": {
      "text/html": [
       "<div>\n",
       "<style>\n",
       "    .dataframe thead tr:only-child th {\n",
       "        text-align: right;\n",
       "    }\n",
       "\n",
       "    .dataframe thead th {\n",
       "        text-align: left;\n",
       "    }\n",
       "\n",
       "    .dataframe tbody tr th {\n",
       "        vertical-align: top;\n",
       "    }\n",
       "</style>\n",
       "<table border=\"1\" class=\"dataframe\">\n",
       "  <thead>\n",
       "    <tr style=\"text-align: right;\">\n",
       "      <th></th>\n",
       "      <th>CommentId</th>\n",
       "      <th>SurveyId</th>\n",
       "      <th>Comment</th>\n",
       "    </tr>\n",
       "  </thead>\n",
       "  <tbody>\n",
       "    <tr>\n",
       "      <th>35</th>\n",
       "      <td>a0fA0000000K10NIAS</td>\n",
       "      <td>a0gA0000003C2FsIAK</td>\n",
       "      <td>dave.w.wright@gmail.com</td>\n",
       "    </tr>\n",
       "    <tr>\n",
       "      <th>70</th>\n",
       "      <td>a0fA0000000K10wIAC</td>\n",
       "      <td>a0gA0000003C2FsIAK</td>\n",
       "      <td>support</td>\n",
       "    </tr>\n",
       "    <tr>\n",
       "      <th>72</th>\n",
       "      <td>a0fA0000000K10yIAC</td>\n",
       "      <td>a0gA0000003C2FsIAK</td>\n",
       "      <td>tkelly@t-edward.com</td>\n",
       "    </tr>\n",
       "    <tr>\n",
       "      <th>108</th>\n",
       "      <td>a0fA0000000K11YIAS</td>\n",
       "      <td>a0gA0000003C2FsIAK</td>\n",
       "      <td>cdevita@growthprocess.com</td>\n",
       "    </tr>\n",
       "    <tr>\n",
       "      <th>181</th>\n",
       "      <td>a0fA0000000K17tIAC</td>\n",
       "      <td>a0gA0000003C2FsIAK</td>\n",
       "      <td>james.ruttley@ideas.com</td>\n",
       "    </tr>\n",
       "  </tbody>\n",
       "</table>\n",
       "</div>"
      ],
      "text/plain": [
       "              CommentId            SurveyId                    Comment\n",
       "35   a0fA0000000K10NIAS  a0gA0000003C2FsIAK    dave.w.wright@gmail.com\n",
       "70   a0fA0000000K10wIAC  a0gA0000003C2FsIAK                    support\n",
       "72   a0fA0000000K10yIAC  a0gA0000003C2FsIAK        tkelly@t-edward.com\n",
       "108  a0fA0000000K11YIAS  a0gA0000003C2FsIAK  cdevita@growthprocess.com\n",
       "181  a0fA0000000K17tIAC  a0gA0000003C2FsIAK    james.ruttley@ideas.com"
      ]
     },
     "execution_count": 14,
     "metadata": {},
     "output_type": "execute_result"
    }
   ],
   "source": [
    "survey_df_clean.head()"
   ]
  },
  {
   "cell_type": "code",
   "execution_count": 15,
   "metadata": {
    "collapsed": true
   },
   "outputs": [],
   "source": [
    "def find_word_count(input_string):\n",
    "    word_list = input_string.split()\n",
    "    word_len = len(word_list)\n",
    "    return word_len"
   ]
  },
  {
   "cell_type": "code",
   "execution_count": 16,
   "metadata": {},
   "outputs": [
    {
     "data": {
      "text/plain": [
       "5"
      ]
     },
     "execution_count": 16,
     "metadata": {},
     "output_type": "execute_result"
    }
   ],
   "source": [
    "find_word_count(\"this is a test string\")"
   ]
  },
  {
   "cell_type": "code",
   "execution_count": 56,
   "metadata": {
    "collapsed": true
   },
   "outputs": [],
   "source": [
    "#survey_df_clean['Comment'].apply(len)"
   ]
  },
  {
   "cell_type": "code",
   "execution_count": 17,
   "metadata": {
    "collapsed": true
   },
   "outputs": [],
   "source": [
    "survey_df_clean['WordCount'] = survey_df_clean['Comment'].apply(find_word_count)"
   ]
  },
  {
   "cell_type": "code",
   "execution_count": 18,
   "metadata": {},
   "outputs": [
    {
     "data": {
      "text/html": [
       "<div>\n",
       "<style>\n",
       "    .dataframe thead tr:only-child th {\n",
       "        text-align: right;\n",
       "    }\n",
       "\n",
       "    .dataframe thead th {\n",
       "        text-align: left;\n",
       "    }\n",
       "\n",
       "    .dataframe tbody tr th {\n",
       "        vertical-align: top;\n",
       "    }\n",
       "</style>\n",
       "<table border=\"1\" class=\"dataframe\">\n",
       "  <thead>\n",
       "    <tr style=\"text-align: right;\">\n",
       "      <th></th>\n",
       "      <th>CommentId</th>\n",
       "      <th>SurveyId</th>\n",
       "      <th>Comment</th>\n",
       "      <th>WordCount</th>\n",
       "    </tr>\n",
       "  </thead>\n",
       "  <tbody>\n",
       "    <tr>\n",
       "      <th>35</th>\n",
       "      <td>a0fA0000000K10NIAS</td>\n",
       "      <td>a0gA0000003C2FsIAK</td>\n",
       "      <td>dave.w.wright@gmail.com</td>\n",
       "      <td>1</td>\n",
       "    </tr>\n",
       "    <tr>\n",
       "      <th>70</th>\n",
       "      <td>a0fA0000000K10wIAC</td>\n",
       "      <td>a0gA0000003C2FsIAK</td>\n",
       "      <td>support</td>\n",
       "      <td>1</td>\n",
       "    </tr>\n",
       "    <tr>\n",
       "      <th>72</th>\n",
       "      <td>a0fA0000000K10yIAC</td>\n",
       "      <td>a0gA0000003C2FsIAK</td>\n",
       "      <td>tkelly@t-edward.com</td>\n",
       "      <td>1</td>\n",
       "    </tr>\n",
       "    <tr>\n",
       "      <th>108</th>\n",
       "      <td>a0fA0000000K11YIAS</td>\n",
       "      <td>a0gA0000003C2FsIAK</td>\n",
       "      <td>cdevita@growthprocess.com</td>\n",
       "      <td>1</td>\n",
       "    </tr>\n",
       "    <tr>\n",
       "      <th>181</th>\n",
       "      <td>a0fA0000000K17tIAC</td>\n",
       "      <td>a0gA0000003C2FsIAK</td>\n",
       "      <td>james.ruttley@ideas.com</td>\n",
       "      <td>1</td>\n",
       "    </tr>\n",
       "  </tbody>\n",
       "</table>\n",
       "</div>"
      ],
      "text/plain": [
       "              CommentId            SurveyId                    Comment  \\\n",
       "35   a0fA0000000K10NIAS  a0gA0000003C2FsIAK    dave.w.wright@gmail.com   \n",
       "70   a0fA0000000K10wIAC  a0gA0000003C2FsIAK                    support   \n",
       "72   a0fA0000000K10yIAC  a0gA0000003C2FsIAK        tkelly@t-edward.com   \n",
       "108  a0fA0000000K11YIAS  a0gA0000003C2FsIAK  cdevita@growthprocess.com   \n",
       "181  a0fA0000000K17tIAC  a0gA0000003C2FsIAK    james.ruttley@ideas.com   \n",
       "\n",
       "     WordCount  \n",
       "35           1  \n",
       "70           1  \n",
       "72           1  \n",
       "108          1  \n",
       "181          1  "
      ]
     },
     "execution_count": 18,
     "metadata": {},
     "output_type": "execute_result"
    }
   ],
   "source": [
    "survey_df_clean.head()"
   ]
  },
  {
   "cell_type": "code",
   "execution_count": 19,
   "metadata": {},
   "outputs": [
    {
     "data": {
      "text/plain": [
       "count    9026.000000\n",
       "mean       25.091403\n",
       "std        36.322156\n",
       "min         1.000000\n",
       "25%         4.000000\n",
       "50%        13.000000\n",
       "75%        31.000000\n",
       "max       520.000000\n",
       "Name: WordCount, dtype: float64"
      ]
     },
     "execution_count": 19,
     "metadata": {},
     "output_type": "execute_result"
    }
   ],
   "source": [
    "survey_df_clean['WordCount'].describe()"
   ]
  },
  {
   "cell_type": "code",
   "execution_count": 20,
   "metadata": {},
   "outputs": [
    {
     "data": {
      "text/plain": [
       "array([ 'Move down south more to Santa Clara because the drive to and from the East Bay is murder.  The Fremont BART parking lot fills up so fast so early I was unable to ever park and ride from there and had to keep trying different stations each day which were usually all packed as well.\\r\\rHave fewer topics and make most of the sessions occur once or twice per day.  Once in the morning and one in the afternoon on one day or once in the morning on day 1 and one in the afternoon on day 2.  There were at least 3-4 topics I wanted to sit in on all going on at the same time so I had to make do with just the one session I could ever attend.  WIth fewer topics and having them occur more than once it would be easier for people to attend more of the topics that interest them.\\r\\rPay attention to session attendance.  I was only scanned once on the first day out of the 5 sessions I attended and in two cases, the rooms were so packed, some of us were sitting on the floor around the walls.  Topics that popular are a huge indicator that you need to hold it again later that day or the next day so some real time session adding could be useful.\\r\\rOne of the restaurants (the sausage one) was very strict about when you could use coupons and they even put out a sign that they were only taking 25 Pulse coupons on the third day, which was a very poor choice and I was surprised to see that someone running Pulse did not go over there to resolve that issue.\\r\\rLess marketing in the sessions.  There were a few sessions I attended, i would up walking out on because it was more about how we use our product to get CSM results.  The marketing should be left out in the kiosk area.  If these sessions still need to occur, then make it very clear in the description that thi is going to be focused on such and such company and their software.  This wasted my time when I could have attended another session that was interesting to me and would have been more useful.  \\r\\rHats!  What happened to the Pulse hats this year?  I still wear last years hat and was looking forward to a new version because love it so much!\\r\\rHave bigger sized shirts.  I wear a 2XL and the largest you had was XL.  That was very disappointing and made me feel left out because CSM\\'s apparently can\\'t be on the larger side.\\r\\rGet better quality of security guards.  Some were really good but many were very \"ghetto\" acting and spoke inappropriately.\\r\\rLower the price.  I am sure many others could not attend because the price was too high.  If not, then offer multiple pass types like a free third day pass, a first day pass, a second day pass and a first/second day pass all with different price points and ONE food coupon per day instead of two.'], dtype=object)"
      ]
     },
     "execution_count": 20,
     "metadata": {},
     "output_type": "execute_result"
    }
   ],
   "source": [
    "survey_df_clean[survey_df_clean['WordCount'] == 520]['Comment'].values"
   ]
  },
  {
   "cell_type": "code",
   "execution_count": 21,
   "metadata": {},
   "outputs": [
    {
     "name": "stdout",
     "output_type": "stream",
     "text": [
      "(9026, 4)\n",
      "(2313, 4)\n"
     ]
    }
   ],
   "source": [
    "print survey_df_clean.shape\n",
    "print survey_df_clean[survey_df_clean['WordCount'] > 30].shape"
   ]
  },
  {
   "cell_type": "code",
   "execution_count": 22,
   "metadata": {
    "collapsed": true
   },
   "outputs": [],
   "source": [
    "survey_df_clean_more = survey_df_clean[survey_df_clean['WordCount']>30].copy()"
   ]
  },
  {
   "cell_type": "code",
   "execution_count": 23,
   "metadata": {},
   "outputs": [
    {
     "data": {
      "text/html": [
       "<div>\n",
       "<style>\n",
       "    .dataframe thead tr:only-child th {\n",
       "        text-align: right;\n",
       "    }\n",
       "\n",
       "    .dataframe thead th {\n",
       "        text-align: left;\n",
       "    }\n",
       "\n",
       "    .dataframe tbody tr th {\n",
       "        vertical-align: top;\n",
       "    }\n",
       "</style>\n",
       "<table border=\"1\" class=\"dataframe\">\n",
       "  <thead>\n",
       "    <tr style=\"text-align: right;\">\n",
       "      <th></th>\n",
       "      <th>CommentId</th>\n",
       "      <th>SurveyId</th>\n",
       "      <th>Comment</th>\n",
       "      <th>WordCount</th>\n",
       "    </tr>\n",
       "  </thead>\n",
       "  <tbody>\n",
       "    <tr>\n",
       "      <th>1578</th>\n",
       "      <td>a0fA0000000KqDUIA0</td>\n",
       "      <td>a0gA0000000IdYmIAK</td>\n",
       "      <td>Having a professional services person owning t...</td>\n",
       "      <td>49</td>\n",
       "    </tr>\n",
       "    <tr>\n",
       "      <th>1585</th>\n",
       "      <td>a0fA0000000KqDbIAK</td>\n",
       "      <td>a0gA0000000IdYmIAK</td>\n",
       "      <td>The responsiveness of the team was great.  The...</td>\n",
       "      <td>73</td>\n",
       "    </tr>\n",
       "    <tr>\n",
       "      <th>1599</th>\n",
       "      <td>a0fA0000000KtQiIAK</td>\n",
       "      <td>a0gA0000000IdYmIAK</td>\n",
       "      <td>What worked: \\r* Tight ship - kept things on t...</td>\n",
       "      <td>90</td>\n",
       "    </tr>\n",
       "    <tr>\n",
       "      <th>2437</th>\n",
       "      <td>a0fA0000004Y4nbIAC</td>\n",
       "      <td>a0gA0000003CV6RIAW</td>\n",
       "      <td>I think there is so much potential for Gainsig...</td>\n",
       "      <td>56</td>\n",
       "    </tr>\n",
       "    <tr>\n",
       "      <th>2508</th>\n",
       "      <td>a0fA0000004YC2ZIAW</td>\n",
       "      <td>a0gA0000003CV6RIAW</td>\n",
       "      <td>We  rely heavily on Gainsight, and it is deepl...</td>\n",
       "      <td>58</td>\n",
       "    </tr>\n",
       "  </tbody>\n",
       "</table>\n",
       "</div>"
      ],
      "text/plain": [
       "               CommentId            SurveyId  \\\n",
       "1578  a0fA0000000KqDUIA0  a0gA0000000IdYmIAK   \n",
       "1585  a0fA0000000KqDbIAK  a0gA0000000IdYmIAK   \n",
       "1599  a0fA0000000KtQiIAK  a0gA0000000IdYmIAK   \n",
       "2437  a0fA0000004Y4nbIAC  a0gA0000003CV6RIAW   \n",
       "2508  a0fA0000004YC2ZIAW  a0gA0000003CV6RIAW   \n",
       "\n",
       "                                                Comment  WordCount  \n",
       "1578  Having a professional services person owning t...         49  \n",
       "1585  The responsiveness of the team was great.  The...         73  \n",
       "1599  What worked: \\r* Tight ship - kept things on t...         90  \n",
       "2437  I think there is so much potential for Gainsig...         56  \n",
       "2508  We  rely heavily on Gainsight, and it is deepl...         58  "
      ]
     },
     "execution_count": 23,
     "metadata": {},
     "output_type": "execute_result"
    }
   ],
   "source": [
    "survey_df_clean_more.head()"
   ]
  },
  {
   "cell_type": "code",
   "execution_count": 39,
   "metadata": {
    "collapsed": true
   },
   "outputs": [],
   "source": [
    "import os\n",
    "if not os.path.exists(\"/Users/aparajita/Documents/survey_data_of_tp_by_surveyid/\"):\n",
    "    os.makedirs(\"/Users/aparajita/Documents/survey_data_of_tp_by_surveyid/\")"
   ]
  },
  {
   "cell_type": "code",
   "execution_count": 40,
   "metadata": {
    "collapsed": true
   },
   "outputs": [],
   "source": [
    "for index,row in survey_df_clean_more.iterrows():\n",
    "    survey_directory_path = \"/Users/aparajita/Documents/survey_data_of_tp_by_surveyid/\"+str(row['SurveyId'])+\"/\"\n",
    "    if not os.path.exists(survey_directory_path):\n",
    "        os.makedirs(survey_directory_path)\n",
    "    with open(survey_directory_path+str(row['CommentId']+\".txt\"),\n",
    "              'w') as file_for_write:\n",
    "        file_for_write.write(str(row['Comment']))"
   ]
  },
  {
   "cell_type": "code",
   "execution_count": 125,
   "metadata": {
    "collapsed": true
   },
   "outputs": [],
   "source": [
    "# CORPUS_PATH = os.path.join('data', 'austen-brontë-split')a0gA0000007RlVVIA0\n",
    "CORPUS_PATH = \"/Users/aparajita/Documents/survey_data_of_tp_by_surveyid/a0gA0000000Is79IAC\"\n",
    "\n",
    "filenames = sorted([os.path.join(CORPUS_PATH, fn) for fn in os.listdir(CORPUS_PATH)])"
   ]
  },
  {
   "cell_type": "code",
   "execution_count": 45,
   "metadata": {
    "collapsed": true
   },
   "outputs": [],
   "source": [
    "# filenames"
   ]
  },
  {
   "cell_type": "code",
   "execution_count": 126,
   "metadata": {},
   "outputs": [
    {
     "name": "stdout",
     "output_type": "stream",
     "text": [
      "162\n"
     ]
    },
    {
     "data": {
      "text/plain": [
       "list"
      ]
     },
     "execution_count": 126,
     "metadata": {},
     "output_type": "execute_result"
    }
   ],
   "source": [
    "print len(filenames)\n",
    "type(filenames)"
   ]
  },
  {
   "cell_type": "code",
   "execution_count": 127,
   "metadata": {},
   "outputs": [
    {
     "data": {
      "text/plain": [
       "['/Users/aparajita/Documents/survey_data_of_tp_by_surveyid/a0gA0000000Is79IAC/a0fA00000057IToIAM.txt',\n",
       " '/Users/aparajita/Documents/survey_data_of_tp_by_surveyid/a0gA0000000Is79IAC/a0fA00000057ITyIAM.txt',\n",
       " '/Users/aparajita/Documents/survey_data_of_tp_by_surveyid/a0gA0000000Is79IAC/a0fA0000005b4k6IAA.txt',\n",
       " '/Users/aparajita/Documents/survey_data_of_tp_by_surveyid/a0gA0000000Is79IAC/a0fA0000005b4k8IAA.txt',\n",
       " '/Users/aparajita/Documents/survey_data_of_tp_by_surveyid/a0gA0000000Is79IAC/a0fA0000005bODyIAM.txt']"
      ]
     },
     "execution_count": 127,
     "metadata": {},
     "output_type": "execute_result"
    }
   ],
   "source": [
    "filenames[:5]"
   ]
  },
  {
   "cell_type": "code",
   "execution_count": 128,
   "metadata": {
    "collapsed": true
   },
   "outputs": [],
   "source": [
    "import numpy as np  # a conventional alias\n",
    "\n",
    "import sklearn.feature_extraction.text as text"
   ]
  },
  {
   "cell_type": "code",
   "execution_count": 129,
   "metadata": {
    "collapsed": true
   },
   "outputs": [],
   "source": [
    "vectorizer = text.CountVectorizer(input='filename', stop_words='english', min_df=4,encoding='latin')"
   ]
  },
  {
   "cell_type": "code",
   "execution_count": 50,
   "metadata": {
    "collapsed": true
   },
   "outputs": [],
   "source": [
    "#vectorizer"
   ]
  },
  {
   "cell_type": "code",
   "execution_count": 130,
   "metadata": {
    "collapsed": true
   },
   "outputs": [],
   "source": [
    "dtm = vectorizer.fit_transform(filenames).toarray()"
   ]
  },
  {
   "cell_type": "code",
   "execution_count": 131,
   "metadata": {},
   "outputs": [
    {
     "name": "stdout",
     "output_type": "stream",
     "text": [
      "(162, 253)\n"
     ]
    },
    {
     "data": {
      "text/plain": [
       "array([[0, 0, 0, ..., 0, 0, 0],\n",
       "       [0, 0, 0, ..., 0, 0, 0],\n",
       "       [0, 0, 0, ..., 0, 0, 0],\n",
       "       ..., \n",
       "       [0, 0, 0, ..., 0, 0, 0],\n",
       "       [0, 0, 1, ..., 1, 0, 0],\n",
       "       [0, 0, 0, ..., 1, 0, 0]])"
      ]
     },
     "execution_count": 131,
     "metadata": {},
     "output_type": "execute_result"
    }
   ],
   "source": [
    "print dtm.shape\n",
    "dtm"
   ]
  },
  {
   "cell_type": "code",
   "execution_count": 132,
   "metadata": {
    "collapsed": true
   },
   "outputs": [],
   "source": [
    "vocab = np.array(vectorizer.get_feature_names())"
   ]
  },
  {
   "cell_type": "code",
   "execution_count": 95,
   "metadata": {},
   "outputs": [
    {
     "data": {
      "text/plain": [
       "array([u'10', u'100', u'15', u'20', u'200', u'30', u'90', u'90s',\n",
       "       u'ability', u'able', u'access', u'accommodate', u'accordingly',\n",
       "       u'activities', u'actually', u'add', u'admin', u'admins', u'adobe',\n",
       "       u'adoption', u'advance', u'advanced', u'agenda', u'aircraft',\n",
       "       u'align', u'allow', u'amazing', u'app', u'appreciate',\n",
       "       u'appreciated', u'approach', u'area', u'areas', u'ask', u'attend',\n",
       "       u'attendance', u'attended', u'attendee', u'attendees', u'attending',\n",
       "       u'audience', u'available', u'away', u'awesome', u'bad', u'based',\n",
       "       u'basic', u'best', u'better', u'big', u'bigger', u'birds', u'bit',\n",
       "       u'booths', u'box', u'break', u'breaking', u'breakout', u'breakouts',\n",
       "       u'build', u'building', u'capacity', u'carrier', u'case', u'cases',\n",
       "       u'caused', u'center', u'central', u'ceo', u'challenges',\n",
       "       u'challenging', u'chance', u'change', u'check', u'circles',\n",
       "       u'cisco', u'clear', u'clients', u'coffee', u'colleagues', u'come',\n",
       "       u'community', u'companies', u'company', u'conference',\n",
       "       u'conferences', u'connect', u'connected', u'consider',\n",
       "       u'consistently', u'content', u'continue', u'continues',\n",
       "       u'convention', u'conversations', u'couldn', u'course', u'crowded',\n",
       "       u'crowds', u'cs', u'csm', u'current', u'currently', u'customer',\n",
       "       u'customers', u'data', u'day', u'days', u'dedicated', u'deep',\n",
       "       u'deeper', u'definitely', u'depth', u'details', u'did', u'didn',\n",
       "       u'different', u'difficult', u'disappointed', u'discuss',\n",
       "       u'discussions', u'dive', u'dives', u'doing', u'don', u'drinks',\n",
       "       u'early', u'easier', u'easy', u'end', u'ended', u'energy', u'enjoy',\n",
       "       u'enjoyed', u'ensure', u'entire', u'especially', u'event',\n",
       "       u'events', u'example', u'examples', u'excellent', u'experience',\n",
       "       u'experts', u'extremely', u'fact', u'fantastic', u'far', u'feather',\n",
       "       u'feel', u'feeling', u'felt', u'fewer', u'fi', u'figure', u'floor',\n",
       "       u'flow', u'focus', u'focused', u'folks', u'food', u'form',\n",
       "       u'format', u'frustrating', u'fun', u'function', u'gainsight',\n",
       "       u'general', u'getting', u'given', u'going', u'good', u'got',\n",
       "       u'great', u'gretchen', u'ground', u'groups', u'grow', u'gs',\n",
       "       u'guys', u'habits', u'hallway', u'hallways', u'hand', u'hands',\n",
       "       u'happy', u'hard', u'having', u'hear', u'heard', u'hearing',\n",
       "       u'help', u'helped', u'helpful', u'helping', u'high', u'hornet',\n",
       "       u'hot', u'hotel', u'ice', u'idea', u'ideas', u'important',\n",
       "       u'impossible', u'improve', u'improvement', u'include', u'including',\n",
       "       u'industries', u'industry', u'information', u'informative',\n",
       "       u'insights', u'instead', u'interested', u'interesting', u'issue',\n",
       "       u'issues', u'job', u'journey', u'just', u'key', u'keynote',\n",
       "       u'keynotes', u'kind', u'know', u'knowledge', u'large', u'larger',\n",
       "       u'lastly', u'late', u'leadership', u'learn', u'learned',\n",
       "       u'learning', u'leave', u'left', u'lessons', u'level', u'like',\n",
       "       u'liked', u'likely', u'limited', u'line', u'lines', u'list',\n",
       "       u'little', u'location', u'logistics', u'long', u'longer', u'look',\n",
       "       u'looking', u'lot', u'lots', u'lounge', u'love', u'loved', u'lower',\n",
       "       u'lunch', u'lunches', u'main', u'make', u'making', u'management',\n",
       "       u'marketing', u'marriott', u'maybe', u'meet', u'meeting', u'mins',\n",
       "       u'minutes', u'miss', u'missed', u'models', u'morning', u'movement',\n",
       "       u'moving', u'multiple', u'music', u'navigate', u'need', u'needed',\n",
       "       u'needs', u'network', u'networking', u'new', u'nice', u'nick',\n",
       "       u'non', u'number', u'oakland', u'offer', u'ones', u'operations',\n",
       "       u'opportunities', u'opportunity', u'ops', u'options', u'order',\n",
       "       u'org', u'organization', u'organizations', u'orgs', u'outgrown',\n",
       "       u'outside', u'overall', u'overcrowded', u'packed', u'panels',\n",
       "       u'particularly', u'partners', u'parts', u'party', u'peers',\n",
       "       u'people', u'perk', u'person', u'personally', u'pick', u'place',\n",
       "       u'plan', u'planning', u'point', u'popular', u'practical',\n",
       "       u'practices', u'pre', u'presentation', u'presentations',\n",
       "       u'presenters', u'pretty', u'prior', u'problem', u'process',\n",
       "       u'product', u'program', u'provide', u'provided', u'pulse',\n",
       "       u'questions', u'quite', u'real', u'really', u'register', u'related',\n",
       "       u'relevant', u'resources', u'right', u'role', u'room', u'rooms',\n",
       "       u'rubin', u'said', u'sales', u'say', u'scale', u'schedule',\n",
       "       u'schedules', u'seating', u'seats', u'second', u'separate',\n",
       "       u'services', u'session', u'sessions', u'set', u'short', u'similar',\n",
       "       u'sit', u'site', u'sitting', u'size', u'slides', u'small',\n",
       "       u'smaller', u'space', u'speak', u'speaker', u'speakers',\n",
       "       u'specific', u'specifically', u'standing', u'start', u'starting',\n",
       "       u'stick', u'strategic', u'street', u'strong', u'success',\n",
       "       u'successful', u'suggest', u'super', u'support', u'sure', u'table',\n",
       "       u'tactical', u'takeaways', u'taking', u'talk', u'team', u'teams',\n",
       "       u'tech', u'technical', u'terms', u'theme', u'thing', u'things',\n",
       "       u'think', u'thinking', u'thought', u'thursday', u'time', u'times',\n",
       "       u'titles', u'ton', u'took', u'topic', u'topics', u'track',\n",
       "       u'tracks', u'traffic', u'training', u'trucks', u'try', u'trying',\n",
       "       u'tuesday', u'turned', u'type', u'types', u'unable',\n",
       "       u'uncomfortable', u'understand', u'unfortunately', u'use', u'using',\n",
       "       u'uss', u'valuable', u'value', u'vanilla', u'various', u've',\n",
       "       u'vendor', u'vendors', u'venue', u'vs', u'waiting', u'walk',\n",
       "       u'walked', u'walking', u'want', u'wanted', u'wasn', u'water',\n",
       "       u'way', u'ways', u'wednesday', u'week', u'went', u'weren', u'wi',\n",
       "       u'wifi', u'wish', u'work', u'worked', u'workshop', u'world',\n",
       "       u'year', u'years'], \n",
       "      dtype='<U13')"
      ]
     },
     "execution_count": 95,
     "metadata": {},
     "output_type": "execute_result"
    }
   ],
   "source": [
    "vocab"
   ]
  },
  {
   "cell_type": "code",
   "execution_count": 133,
   "metadata": {},
   "outputs": [
    {
     "data": {
      "text/plain": [
       "(162, 253)"
      ]
     },
     "execution_count": 133,
     "metadata": {},
     "output_type": "execute_result"
    }
   ],
   "source": [
    " dtm.shape"
   ]
  },
  {
   "cell_type": "code",
   "execution_count": 134,
   "metadata": {},
   "outputs": [
    {
     "data": {
      "text/plain": [
       "253"
      ]
     },
     "execution_count": 134,
     "metadata": {},
     "output_type": "execute_result"
    }
   ],
   "source": [
    "len(vocab)"
   ]
  },
  {
   "cell_type": "code",
   "execution_count": 135,
   "metadata": {
    "collapsed": true
   },
   "outputs": [],
   "source": [
    "from sklearn import decomposition"
   ]
  },
  {
   "cell_type": "code",
   "execution_count": 136,
   "metadata": {
    "collapsed": true
   },
   "outputs": [],
   "source": [
    "num_topics = 20"
   ]
  },
  {
   "cell_type": "code",
   "execution_count": 137,
   "metadata": {
    "collapsed": true
   },
   "outputs": [],
   "source": [
    "num_top_words = 20"
   ]
  },
  {
   "cell_type": "code",
   "execution_count": 138,
   "metadata": {
    "collapsed": true
   },
   "outputs": [],
   "source": [
    "clf = decomposition.NMF(n_components=num_topics, random_state=1)"
   ]
  },
  {
   "cell_type": "code",
   "execution_count": 139,
   "metadata": {
    "collapsed": true
   },
   "outputs": [],
   "source": [
    "doctopic = clf.fit_transform(dtm)"
   ]
  },
  {
   "cell_type": "code",
   "execution_count": 140,
   "metadata": {
    "collapsed": true
   },
   "outputs": [],
   "source": [
    "topic_words = []\n",
    "for topic in clf.components_:\n",
    "    word_idx = np.argsort(topic)[::-1][0:num_top_words]\n",
    "    topic_words.append([vocab[i] for i in word_idx])"
   ]
  },
  {
   "cell_type": "code",
   "execution_count": 141,
   "metadata": {},
   "outputs": [
    {
     "data": {
      "text/plain": [
       "[u'like',\n",
       " u'things',\n",
       " u'help',\n",
       " u'times',\n",
       " u'rory',\n",
       " u'week',\n",
       " u'felt',\n",
       " u'know',\n",
       " u'meeting',\n",
       " u'didn',\n",
       " u'questions',\n",
       " u'going',\n",
       " u'good',\n",
       " u'say',\n",
       " u'having',\n",
       " u'pre',\n",
       " u'specific',\n",
       " u'helpful',\n",
       " u'technical',\n",
       " u'changes']"
      ]
     },
     "execution_count": 141,
     "metadata": {},
     "output_type": "execute_result"
    }
   ],
   "source": [
    "topic_words[8]"
   ]
  },
  {
   "cell_type": "code",
   "execution_count": 142,
   "metadata": {},
   "outputs": [
    {
     "data": {
      "text/plain": [
       "[u'team',\n",
       " u'difficult',\n",
       " u'like',\n",
       " u'responsive',\n",
       " u'project',\n",
       " u'wish',\n",
       " u'needed',\n",
       " u'ask',\n",
       " u'rollout',\n",
       " u'launch',\n",
       " u'provided',\n",
       " u'sales',\n",
       " u'said',\n",
       " u'features',\n",
       " u'platform',\n",
       " u'easy',\n",
       " u'time',\n",
       " u'technical',\n",
       " u'felt',\n",
       " u'meeting']"
      ]
     },
     "execution_count": 142,
     "metadata": {},
     "output_type": "execute_result"
    }
   ],
   "source": [
    "topic_words[7]"
   ]
  },
  {
   "cell_type": "code",
   "execution_count": 143,
   "metadata": {},
   "outputs": [
    {
     "data": {
      "text/html": [
       "<div>\n",
       "<style>\n",
       "    .dataframe thead tr:only-child th {\n",
       "        text-align: right;\n",
       "    }\n",
       "\n",
       "    .dataframe thead th {\n",
       "        text-align: left;\n",
       "    }\n",
       "\n",
       "    .dataframe tbody tr th {\n",
       "        vertical-align: top;\n",
       "    }\n",
       "</style>\n",
       "<table border=\"1\" class=\"dataframe\">\n",
       "  <thead>\n",
       "    <tr style=\"text-align: right;\">\n",
       "      <th></th>\n",
       "      <th>CommentId</th>\n",
       "      <th>SurveyId</th>\n",
       "      <th>Comment</th>\n",
       "      <th>WordCount</th>\n",
       "    </tr>\n",
       "  </thead>\n",
       "  <tbody>\n",
       "    <tr>\n",
       "      <th>1578</th>\n",
       "      <td>a0fA0000000KqDUIA0</td>\n",
       "      <td>a0gA0000000IdYmIAK</td>\n",
       "      <td>Having a professional services person owning t...</td>\n",
       "      <td>49</td>\n",
       "    </tr>\n",
       "    <tr>\n",
       "      <th>1585</th>\n",
       "      <td>a0fA0000000KqDbIAK</td>\n",
       "      <td>a0gA0000000IdYmIAK</td>\n",
       "      <td>The responsiveness of the team was great.  The...</td>\n",
       "      <td>73</td>\n",
       "    </tr>\n",
       "    <tr>\n",
       "      <th>1599</th>\n",
       "      <td>a0fA0000000KtQiIAK</td>\n",
       "      <td>a0gA0000000IdYmIAK</td>\n",
       "      <td>What worked: \\r* Tight ship - kept things on t...</td>\n",
       "      <td>90</td>\n",
       "    </tr>\n",
       "    <tr>\n",
       "      <th>2437</th>\n",
       "      <td>a0fA0000004Y4nbIAC</td>\n",
       "      <td>a0gA0000003CV6RIAW</td>\n",
       "      <td>I think there is so much potential for Gainsig...</td>\n",
       "      <td>56</td>\n",
       "    </tr>\n",
       "    <tr>\n",
       "      <th>2508</th>\n",
       "      <td>a0fA0000004YC2ZIAW</td>\n",
       "      <td>a0gA0000003CV6RIAW</td>\n",
       "      <td>We  rely heavily on Gainsight, and it is deepl...</td>\n",
       "      <td>58</td>\n",
       "    </tr>\n",
       "    <tr>\n",
       "      <th>2517</th>\n",
       "      <td>a0fA0000004YCXsIAO</td>\n",
       "      <td>a0gA0000003CV6RIAW</td>\n",
       "      <td>note that I rated survey functionality as a 1 ...</td>\n",
       "      <td>36</td>\n",
       "    </tr>\n",
       "    <tr>\n",
       "      <th>4525</th>\n",
       "      <td>a0fA0000004YcKIIA0</td>\n",
       "      <td>a0gA0000003DJXDIA4</td>\n",
       "      <td>Customer Success &amp; Relationship to Product -- ...</td>\n",
       "      <td>32</td>\n",
       "    </tr>\n",
       "    <tr>\n",
       "      <th>4600</th>\n",
       "      <td>a0fA0000004YcQNIA0</td>\n",
       "      <td>a0gA0000003DJXDIA4</td>\n",
       "      <td>Two of the tracks I participated in also seeme...</td>\n",
       "      <td>73</td>\n",
       "    </tr>\n",
       "    <tr>\n",
       "      <th>4651</th>\n",
       "      <td>a0fA0000004YcSKIA0</td>\n",
       "      <td>a0gA0000003DJXDIA4</td>\n",
       "      <td>THe salesforce.com moderator was dismissive of...</td>\n",
       "      <td>62</td>\n",
       "    </tr>\n",
       "    <tr>\n",
       "      <th>4673</th>\n",
       "      <td>a0fA0000004YcSlIAK</td>\n",
       "      <td>a0gA0000003DJXDIA4</td>\n",
       "      <td>Wish the panels were a bit longer.  Would have...</td>\n",
       "      <td>41</td>\n",
       "    </tr>\n",
       "    <tr>\n",
       "      <th>4699</th>\n",
       "      <td>a0fA0000004YcXwIAK</td>\n",
       "      <td>a0gA0000003DJXDIA4</td>\n",
       "      <td>Seeing CSM from the CFO, CIO viewpoints really...</td>\n",
       "      <td>33</td>\n",
       "    </tr>\n",
       "    <tr>\n",
       "      <th>4709</th>\n",
       "      <td>a0fA0000004YcY6IAK</td>\n",
       "      <td>a0gA0000003DJXDIA4</td>\n",
       "      <td>I really liked Geoffrey Moore but not the CFO/...</td>\n",
       "      <td>31</td>\n",
       "    </tr>\n",
       "    <tr>\n",
       "      <th>4733</th>\n",
       "      <td>a0fA0000004YcZ8IAK</td>\n",
       "      <td>a0gA0000003DJXDIA4</td>\n",
       "      <td>Would have liked information about transportat...</td>\n",
       "      <td>41</td>\n",
       "    </tr>\n",
       "    <tr>\n",
       "      <th>4749</th>\n",
       "      <td>a0fA0000004YccrIAC</td>\n",
       "      <td>a0gA0000003DJXDIA4</td>\n",
       "      <td>Think the breakout sessions could be longer. I...</td>\n",
       "      <td>35</td>\n",
       "    </tr>\n",
       "    <tr>\n",
       "      <th>4759</th>\n",
       "      <td>a0fA0000004Ycd1IAC</td>\n",
       "      <td>a0gA0000003DJXDIA4</td>\n",
       "      <td>As indicated above. I would lengthen the sessi...</td>\n",
       "      <td>48</td>\n",
       "    </tr>\n",
       "    <tr>\n",
       "      <th>4774</th>\n",
       "      <td>a0fA0000004YcdGIAS</td>\n",
       "      <td>a0gA0000003DJXDIA4</td>\n",
       "      <td>Lets do it again  next month!! \\r\\rMaybe inclu...</td>\n",
       "      <td>32</td>\n",
       "    </tr>\n",
       "    <tr>\n",
       "      <th>4787</th>\n",
       "      <td>a0fA0000004YcnwIAC</td>\n",
       "      <td>a0gA0000003DJXDIA4</td>\n",
       "      <td>Some of the panels were slow and rambling\\rOnl...</td>\n",
       "      <td>76</td>\n",
       "    </tr>\n",
       "    <tr>\n",
       "      <th>4829</th>\n",
       "      <td>a0fA0000004Ydm3IAC</td>\n",
       "      <td>a0gA0000003DJXDIA4</td>\n",
       "      <td>Some of the panelists such as the CIO one was ...</td>\n",
       "      <td>48</td>\n",
       "    </tr>\n",
       "    <tr>\n",
       "      <th>4852</th>\n",
       "      <td>a0fA0000004YdmQIAS</td>\n",
       "      <td>a0gA0000003DJXDIA4</td>\n",
       "      <td>The networking lunch was great. We actually ha...</td>\n",
       "      <td>46</td>\n",
       "    </tr>\n",
       "    <tr>\n",
       "      <th>4906</th>\n",
       "      <td>a0fA0000004Z1FyIAK</td>\n",
       "      <td>a0gA0000003DJXDIA4</td>\n",
       "      <td>Did not like the location: Local Edition, Spea...</td>\n",
       "      <td>61</td>\n",
       "    </tr>\n",
       "  </tbody>\n",
       "</table>\n",
       "</div>"
      ],
      "text/plain": [
       "               CommentId            SurveyId  \\\n",
       "1578  a0fA0000000KqDUIA0  a0gA0000000IdYmIAK   \n",
       "1585  a0fA0000000KqDbIAK  a0gA0000000IdYmIAK   \n",
       "1599  a0fA0000000KtQiIAK  a0gA0000000IdYmIAK   \n",
       "2437  a0fA0000004Y4nbIAC  a0gA0000003CV6RIAW   \n",
       "2508  a0fA0000004YC2ZIAW  a0gA0000003CV6RIAW   \n",
       "2517  a0fA0000004YCXsIAO  a0gA0000003CV6RIAW   \n",
       "4525  a0fA0000004YcKIIA0  a0gA0000003DJXDIA4   \n",
       "4600  a0fA0000004YcQNIA0  a0gA0000003DJXDIA4   \n",
       "4651  a0fA0000004YcSKIA0  a0gA0000003DJXDIA4   \n",
       "4673  a0fA0000004YcSlIAK  a0gA0000003DJXDIA4   \n",
       "4699  a0fA0000004YcXwIAK  a0gA0000003DJXDIA4   \n",
       "4709  a0fA0000004YcY6IAK  a0gA0000003DJXDIA4   \n",
       "4733  a0fA0000004YcZ8IAK  a0gA0000003DJXDIA4   \n",
       "4749  a0fA0000004YccrIAC  a0gA0000003DJXDIA4   \n",
       "4759  a0fA0000004Ycd1IAC  a0gA0000003DJXDIA4   \n",
       "4774  a0fA0000004YcdGIAS  a0gA0000003DJXDIA4   \n",
       "4787  a0fA0000004YcnwIAC  a0gA0000003DJXDIA4   \n",
       "4829  a0fA0000004Ydm3IAC  a0gA0000003DJXDIA4   \n",
       "4852  a0fA0000004YdmQIAS  a0gA0000003DJXDIA4   \n",
       "4906  a0fA0000004Z1FyIAK  a0gA0000003DJXDIA4   \n",
       "\n",
       "                                                Comment  WordCount  \n",
       "1578  Having a professional services person owning t...         49  \n",
       "1585  The responsiveness of the team was great.  The...         73  \n",
       "1599  What worked: \\r* Tight ship - kept things on t...         90  \n",
       "2437  I think there is so much potential for Gainsig...         56  \n",
       "2508  We  rely heavily on Gainsight, and it is deepl...         58  \n",
       "2517  note that I rated survey functionality as a 1 ...         36  \n",
       "4525  Customer Success & Relationship to Product -- ...         32  \n",
       "4600  Two of the tracks I participated in also seeme...         73  \n",
       "4651  THe salesforce.com moderator was dismissive of...         62  \n",
       "4673  Wish the panels were a bit longer.  Would have...         41  \n",
       "4699  Seeing CSM from the CFO, CIO viewpoints really...         33  \n",
       "4709  I really liked Geoffrey Moore but not the CFO/...         31  \n",
       "4733  Would have liked information about transportat...         41  \n",
       "4749  Think the breakout sessions could be longer. I...         35  \n",
       "4759  As indicated above. I would lengthen the sessi...         48  \n",
       "4774  Lets do it again  next month!! \\r\\rMaybe inclu...         32  \n",
       "4787  Some of the panels were slow and rambling\\rOnl...         76  \n",
       "4829  Some of the panelists such as the CIO one was ...         48  \n",
       "4852  The networking lunch was great. We actually ha...         46  \n",
       "4906  Did not like the location: Local Edition, Spea...         61  "
      ]
     },
     "execution_count": 143,
     "metadata": {},
     "output_type": "execute_result"
    }
   ],
   "source": [
    "survey_df_clean_more.head(20)"
   ]
  },
  {
   "cell_type": "code",
   "execution_count": 110,
   "metadata": {
    "collapsed": true
   },
   "outputs": [],
   "source": [
    "count_comment_df = survey_df_clean_more.groupby('SurveyId')['CommentId'].count().reset_index()"
   ]
  },
  {
   "cell_type": "code",
   "execution_count": 122,
   "metadata": {
    "collapsed": true
   },
   "outputs": [],
   "source": [
    "count_comment_df_gt_200 =count_comment_df[count_comment_df['CommentId'] > 100]"
   ]
  },
  {
   "cell_type": "code",
   "execution_count": 124,
   "metadata": {},
   "outputs": [
    {
     "data": {
      "text/html": [
       "<div>\n",
       "<style>\n",
       "    .dataframe thead tr:only-child th {\n",
       "        text-align: right;\n",
       "    }\n",
       "\n",
       "    .dataframe thead th {\n",
       "        text-align: left;\n",
       "    }\n",
       "\n",
       "    .dataframe tbody tr th {\n",
       "        vertical-align: top;\n",
       "    }\n",
       "</style>\n",
       "<table border=\"1\" class=\"dataframe\">\n",
       "  <thead>\n",
       "    <tr style=\"text-align: right;\">\n",
       "      <th></th>\n",
       "      <th>SurveyId</th>\n",
       "      <th>CommentId</th>\n",
       "    </tr>\n",
       "  </thead>\n",
       "  <tbody>\n",
       "    <tr>\n",
       "      <th>2</th>\n",
       "      <td>a0gA0000000Is79IAC</td>\n",
       "      <td>162</td>\n",
       "    </tr>\n",
       "    <tr>\n",
       "      <th>5</th>\n",
       "      <td>a0gA0000000JKG5IAO</td>\n",
       "      <td>233</td>\n",
       "    </tr>\n",
       "    <tr>\n",
       "      <th>11</th>\n",
       "      <td>a0gA0000000JQP8IAO</td>\n",
       "      <td>209</td>\n",
       "    </tr>\n",
       "    <tr>\n",
       "      <th>24</th>\n",
       "      <td>a0gA0000005Sb8dIAC</td>\n",
       "      <td>102</td>\n",
       "    </tr>\n",
       "    <tr>\n",
       "      <th>43</th>\n",
       "      <td>a0gA0000005moXlIAI</td>\n",
       "      <td>120</td>\n",
       "    </tr>\n",
       "    <tr>\n",
       "      <th>45</th>\n",
       "      <td>a0gA0000005mrQqIAI</td>\n",
       "      <td>109</td>\n",
       "    </tr>\n",
       "    <tr>\n",
       "      <th>70</th>\n",
       "      <td>a0gA0000007RlVVIA0</td>\n",
       "      <td>265</td>\n",
       "    </tr>\n",
       "  </tbody>\n",
       "</table>\n",
       "</div>"
      ],
      "text/plain": [
       "              SurveyId  CommentId\n",
       "2   a0gA0000000Is79IAC        162\n",
       "5   a0gA0000000JKG5IAO        233\n",
       "11  a0gA0000000JQP8IAO        209\n",
       "24  a0gA0000005Sb8dIAC        102\n",
       "43  a0gA0000005moXlIAI        120\n",
       "45  a0gA0000005mrQqIAI        109\n",
       "70  a0gA0000007RlVVIA0        265"
      ]
     },
     "execution_count": 124,
     "metadata": {},
     "output_type": "execute_result"
    }
   ],
   "source": [
    "count_comment_df_gt_200.head(10)"
   ]
  },
  {
   "cell_type": "code",
   "execution_count": 144,
   "metadata": {},
   "outputs": [
    {
     "data": {
      "text/plain": [
       "(1200, 4)"
      ]
     },
     "execution_count": 144,
     "metadata": {},
     "output_type": "execute_result"
    }
   ],
   "source": [
    "survey_df_clean_more[survey_df_clean_more['SurveyId'].isin(count_comment_df_gt_200['SurveyId'])].shape"
   ]
  },
  {
   "cell_type": "code",
   "execution_count": 1,
   "metadata": {
    "collapsed": true
   },
   "outputs": [],
   "source": [
    "# grades = {'Bart':75, 'Lisa':98, 'Milhouse':80, 'Nelson':65}\n",
    "\n",
    "# import pickle              # import module first\n",
    "\n",
    "# f = open('gradesdict.p', 'w')   # Pickle file is newly created where foo1.py is\n",
    "# pickle.dump(grades, f)          # dump data to f\n",
    "# f.close()                 "
   ]
  },
  {
   "cell_type": "code",
   "execution_count": 2,
   "metadata": {},
   "outputs": [
    {
     "name": "stdout",
     "output_type": "stream",
     "text": [
      "<closed file 'gradesdict.p', mode 'w' at 0x1066ef930>\n"
     ]
    }
   ],
   "source": [
    "# print f"
   ]
  },
  {
   "cell_type": "code",
   "execution_count": 3,
   "metadata": {},
   "outputs": [
    {
     "data": {
      "text/plain": [
       "4402903344"
      ]
     },
     "execution_count": 3,
     "metadata": {},
     "output_type": "execute_result"
    }
   ],
   "source": [
    "# 0x1066ef930"
   ]
  },
  {
   "cell_type": "code",
   "execution_count": null,
   "metadata": {
    "collapsed": true
   },
   "outputs": [],
   "source": [
    "# with open('company_data.pkl', 'wb') as output:\n",
    "#     company1 = Company('banana', 40)\n",
    "#     pickle.dump(company1, output, pickle.HIGHEST_PROTOCOL)\n",
    "\n",
    "#     company2 = Company('spam', 42)\n",
    "#     pickle.dump(company2, output, pickle.HIGHEST_PROTOCOL)"
   ]
  },
  {
   "cell_type": "code",
   "execution_count": 7,
   "metadata": {
    "collapsed": true
   },
   "outputs": [],
   "source": [
    "# we open the file for reading\n",
    "file_Name = \"/Users/aparajita/Downloads/topic_model.pkl\"\n",
    "fileObject_open = open(file_Name,'r')  \n",
    "# load the object from the file into var b\n",
    "lda_model_unpickled = pickle.load(fileObject_open)\n",
    "fileObject_open.close()"
   ]
  },
  {
   "cell_type": "code",
   "execution_count": 8,
   "metadata": {},
   "outputs": [
    {
     "data": {
      "text/plain": [
       "[(2,\n",
       "  u'0.031*\"great\" + 0.019*\"way\" + 0.017*\"people\" + 0.016*\"ice\" + 0.013*\"vanilla\" + 0.011*\"like\" + 0.011*\"gainsight\" + 0.010*\"job\" + 0.010*\"team\" + 0.010*\"customer\"'),\n",
       " (12,\n",
       "  u'0.025*\"speaker\" + 0.021*\"keynote\" + 0.011*\"slido\" + 0.010*\"various\" + 0.010*\"docusign\" + 0.008*\"became\" + 0.008*\"nearly\" + 0.008*\"area\" + 0.008*\"would\" + 0.008*\"long\"'),\n",
       " (17,\n",
       "  u'0.051*\"would\" + 0.027*\"time\" + 0.022*\"session\" + 0.016*\"nice\" + 0.013*\"didnt\" + 0.012*\"know\" + 0.011*\"helpful\" + 0.011*\"email\" + 0.011*\"providing\" + 0.010*\"also\"'),\n",
       " (9,\n",
       "  u'0.014*\"customer\" + 0.014*\"time\" + 0.010*\"course\" + 0.010*\"like\" + 0.010*\"would\" + 0.009*\"many\" + 0.009*\"center\" + 0.009*\"left\" + 0.008*\"pulse\" + 0.008*\"12\"'),\n",
       " (19,\n",
       "  u'0.024*\"training\" + 0.024*\"admin\" + 0.014*\"gainsight\" + 0.010*\"level\" + 0.010*\"helpful\" + 0.010*\"would\" + 0.010*\"feature\" + 0.009*\"step\" + 0.009*\"c\" + 0.009*\"customer\"'),\n",
       " (1,\n",
       "  u'0.026*\"great\" + 0.017*\"u\" + 0.012*\"done\" + 0.011*\"get\" + 0.010*\"time\" + 0.010*\"gainsight\" + 0.009*\"even\" + 0.009*\"know\" + 0.009*\"year\" + 0.009*\"really\"'),\n",
       " (3,\n",
       "  u'0.070*\"session\" + 0.025*\"room\" + 0.015*\"time\" + 0.013*\"get\" + 0.013*\"also\" + 0.012*\"people\" + 0.011*\"would\" + 0.010*\"day\" + 0.009*\"conference\" + 0.008*\"great\"'),\n",
       " (6,\n",
       "  u'0.038*\"feature\" + 0.021*\"quality\" + 0.019*\"requirement\" + 0.017*\"customer\" + 0.016*\"pm\" + 0.016*\"use\" + 0.015*\"never\" + 0.014*\"dont\" + 0.014*\"survey\" + 0.014*\"also\"'),\n",
       " (13,\n",
       "  u'0.027*\"would\" + 0.024*\"time\" + 0.016*\"could\" + 0.011*\"also\" + 0.011*\"question\" + 0.010*\"express\" + 0.009*\"work\" + 0.009*\"training\" + 0.009*\"gainsight\" + 0.009*\"get\"'),\n",
       " (4,\n",
       "  u'0.030*\"day\" + 0.019*\"gainsight\" + 0.018*\"customer\" + 0.016*\"success\" + 0.010*\"3\" + 0.009*\"product\" + 0.009*\"really\" + 0.008*\"would\" + 0.007*\"1\" + 0.007*\"2\"')]"
      ]
     },
     "execution_count": 8,
     "metadata": {},
     "output_type": "execute_result"
    }
   ],
   "source": [
    "lda_model_unpickled.show_topics()"
   ]
  },
  {
   "cell_type": "code",
   "execution_count": 9,
   "metadata": {
    "collapsed": true
   },
   "outputs": [],
   "source": [
    "with open(\"/Users/aparajita/Downloads/topic_model.pkl\", 'r') as fileObject_open:\n",
    "    ldamodel_unpickled = pickle.load(fileObject_open)"
   ]
  },
  {
   "cell_type": "code",
   "execution_count": 20,
   "metadata": {},
   "outputs": [
    {
     "data": {
      "text/plain": [
       "[(u'would', 0.050927604898911343),\n",
       " (u'time', 0.026848232010773521),\n",
       " (u'session', 0.0224933047298209),\n",
       " (u'nice', 0.015877204143693459),\n",
       " (u'didnt', 0.013339381366643087),\n",
       " (u'know', 0.012254461809478751),\n",
       " (u'helpful', 0.011331763025576477),\n",
       " (u'email', 0.011290526286063252),\n",
       " (u'providing', 0.010800424375122542),\n",
       " (u'also', 0.010181039144869636),\n",
       " (u'need', 0.0090504080384315871),\n",
       " (u'detailed', 0.0082554487106980996),\n",
       " (u'bit', 0.0081725016243160472),\n",
       " (u'one', 0.008164124006471811),\n",
       " (u'original', 0.0079298289264320074),\n",
       " (u'instructor', 0.0078220918097777516),\n",
       " (u'description', 0.007720479109697879),\n",
       " (u'material', 0.0076392893511716357),\n",
       " (u'work', 0.0074532826693330424),\n",
       " (u'3', 0.0071904610362184878),\n",
       " (u'clarity', 0.0069097951140025919),\n",
       " (u'direction', 0.006748275069522019),\n",
       " (u'team', 0.0067398834707437325),\n",
       " (u'issue', 0.0067321911134251159),\n",
       " (u'folk', 0.0065747530141432812),\n",
       " (u'process', 0.0065323177454469838),\n",
       " (u'like', 0.0065050910683533978),\n",
       " (u'prior', 0.0064396226100340726),\n",
       " (u'agenda', 0.0064335649555628174),\n",
       " (u'thing', 0.0063263950250593091)]"
      ]
     },
     "execution_count": 20,
     "metadata": {},
     "output_type": "execute_result"
    }
   ],
   "source": [
    "ldamodel_unpickled.show_topic(17, topn=30)"
   ]
  },
  {
   "cell_type": "code",
   "execution_count": 21,
   "metadata": {},
   "outputs": [
    {
     "ename": "TypeError",
     "evalue": "top_topics() takes at least 2 arguments (1 given)",
     "output_type": "error",
     "traceback": [
      "\u001b[0;31m---------------------------------------------------------------------------\u001b[0m",
      "\u001b[0;31mTypeError\u001b[0m                                 Traceback (most recent call last)",
      "\u001b[0;32m<ipython-input-21-6bc7167c810c>\u001b[0m in \u001b[0;36m<module>\u001b[0;34m()\u001b[0m\n\u001b[0;32m----> 1\u001b[0;31m \u001b[0mldamodel_unpickled\u001b[0m\u001b[0;34m.\u001b[0m\u001b[0mtop_topics\u001b[0m\u001b[0;34m(\u001b[0m\u001b[0;34m)\u001b[0m\u001b[0;34m\u001b[0m\u001b[0m\n\u001b[0m",
      "\u001b[0;31mTypeError\u001b[0m: top_topics() takes at least 2 arguments (1 given)"
     ]
    }
   ],
   "source": [
    "ldamodel_unpickled.top_topics()"
   ]
  },
  {
   "cell_type": "code",
   "execution_count": null,
   "metadata": {
    "collapsed": true
   },
   "outputs": [],
   "source": []
  }
 ],
 "metadata": {
  "kernelspec": {
   "display_name": "Python 2",
   "language": "python",
   "name": "python2"
  },
  "language_info": {
   "codemirror_mode": {
    "name": "ipython",
    "version": 2
   },
   "file_extension": ".py",
   "mimetype": "text/x-python",
   "name": "python",
   "nbconvert_exporter": "python",
   "pygments_lexer": "ipython2",
   "version": "2.7.13"
  }
 },
 "nbformat": 4,
 "nbformat_minor": 2
}
