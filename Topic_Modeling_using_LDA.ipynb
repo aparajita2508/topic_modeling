{
 "cells": [
  {
   "cell_type": "markdown",
   "metadata": {},
   "source": [
    "# Preparing Documents"
   ]
  },
  {
   "cell_type": "code",
   "execution_count": 49,
   "metadata": {
    "collapsed": true
   },
   "outputs": [],
   "source": [
    "import pandas as pd\n",
    "import sys\n",
    "reload(sys) \n",
    "sys.setdefaultencoding('latin')"
   ]
  },
  {
   "cell_type": "code",
   "execution_count": 50,
   "metadata": {
    "collapsed": true
   },
   "outputs": [],
   "source": [
    "survey_df = pd.read_csv(\"/Users/aparajita/Downloads/Survey_Data.csv\")"
   ]
  },
  {
   "cell_type": "code",
   "execution_count": 51,
   "metadata": {},
   "outputs": [
    {
     "data": {
      "text/html": [
       "<div>\n",
       "<style>\n",
       "    .dataframe thead tr:only-child th {\n",
       "        text-align: right;\n",
       "    }\n",
       "\n",
       "    .dataframe thead th {\n",
       "        text-align: left;\n",
       "    }\n",
       "\n",
       "    .dataframe tbody tr th {\n",
       "        vertical-align: top;\n",
       "    }\n",
       "</style>\n",
       "<table border=\"1\" class=\"dataframe\">\n",
       "  <thead>\n",
       "    <tr style=\"text-align: right;\">\n",
       "      <th></th>\n",
       "      <th>CommentId</th>\n",
       "      <th>SurveyId</th>\n",
       "      <th>Comment</th>\n",
       "    </tr>\n",
       "  </thead>\n",
       "  <tbody>\n",
       "    <tr>\n",
       "      <th>0</th>\n",
       "      <td>a0fA0000000K0zoIAC</td>\n",
       "      <td>a0gA0000003C2FsIAK</td>\n",
       "      <td>NaN</td>\n",
       "    </tr>\n",
       "    <tr>\n",
       "      <th>1</th>\n",
       "      <td>a0fA0000000K0zpIAC</td>\n",
       "      <td>a0gA0000003C2FsIAK</td>\n",
       "      <td>NaN</td>\n",
       "    </tr>\n",
       "    <tr>\n",
       "      <th>2</th>\n",
       "      <td>a0fA0000000K0zqIAC</td>\n",
       "      <td>a0gA0000003C2FsIAK</td>\n",
       "      <td>NaN</td>\n",
       "    </tr>\n",
       "    <tr>\n",
       "      <th>3</th>\n",
       "      <td>a0fA0000000K0zrIAC</td>\n",
       "      <td>a0gA0000003C2FsIAK</td>\n",
       "      <td>NaN</td>\n",
       "    </tr>\n",
       "    <tr>\n",
       "      <th>4</th>\n",
       "      <td>a0fA0000000K0zsIAC</td>\n",
       "      <td>a0gA0000003C2FsIAK</td>\n",
       "      <td>NaN</td>\n",
       "    </tr>\n",
       "  </tbody>\n",
       "</table>\n",
       "</div>"
      ],
      "text/plain": [
       "            CommentId            SurveyId Comment\n",
       "0  a0fA0000000K0zoIAC  a0gA0000003C2FsIAK     NaN\n",
       "1  a0fA0000000K0zpIAC  a0gA0000003C2FsIAK     NaN\n",
       "2  a0fA0000000K0zqIAC  a0gA0000003C2FsIAK     NaN\n",
       "3  a0fA0000000K0zrIAC  a0gA0000003C2FsIAK     NaN\n",
       "4  a0fA0000000K0zsIAC  a0gA0000003C2FsIAK     NaN"
      ]
     },
     "execution_count": 51,
     "metadata": {},
     "output_type": "execute_result"
    }
   ],
   "source": [
    "survey_df.head()"
   ]
  },
  {
   "cell_type": "markdown",
   "metadata": {},
   "source": [
    "# Data Cleaning & Prep"
   ]
  },
  {
   "cell_type": "code",
   "execution_count": 52,
   "metadata": {},
   "outputs": [
    {
     "data": {
      "text/plain": [
       "(63841, 3)"
      ]
     },
     "execution_count": 52,
     "metadata": {},
     "output_type": "execute_result"
    }
   ],
   "source": [
    "survey_df.shape"
   ]
  },
  {
   "cell_type": "code",
   "execution_count": 53,
   "metadata": {},
   "outputs": [
    {
     "data": {
      "text/plain": [
       "117"
      ]
     },
     "execution_count": 53,
     "metadata": {},
     "output_type": "execute_result"
    }
   ],
   "source": [
    "# Finding out the unique survey_id because our data hai multiple comments for a single survey id\n",
    "survey_df['SurveyId'].nunique()"
   ]
  },
  {
   "cell_type": "code",
   "execution_count": 54,
   "metadata": {},
   "outputs": [
    {
     "data": {
      "text/plain": [
       "63841"
      ]
     },
     "execution_count": 54,
     "metadata": {},
     "output_type": "execute_result"
    }
   ],
   "source": [
    "#CommentId has the equal count to the shape of the data frame\n",
    "survey_df['CommentId'].nunique()"
   ]
  },
  {
   "cell_type": "code",
   "execution_count": 55,
   "metadata": {},
   "outputs": [
    {
     "data": {
      "text/plain": [
       "(54815, 3)"
      ]
     },
     "execution_count": 55,
     "metadata": {},
     "output_type": "execute_result"
    }
   ],
   "source": [
    "# Printing the occurance of total count of null comments in dataframe\n",
    "survey_df[pd.isnull(survey_df['Comment'])].shape"
   ]
  },
  {
   "cell_type": "code",
   "execution_count": 56,
   "metadata": {
    "collapsed": true
   },
   "outputs": [],
   "source": [
    "#survey_df_clean contains the data of non empty comments\n",
    "survey_df_clean = survey_df[~pd.isnull(survey_df['Comment'])].copy()"
   ]
  },
  {
   "cell_type": "code",
   "execution_count": 57,
   "metadata": {},
   "outputs": [
    {
     "data": {
      "text/html": [
       "<div>\n",
       "<style>\n",
       "    .dataframe thead tr:only-child th {\n",
       "        text-align: right;\n",
       "    }\n",
       "\n",
       "    .dataframe thead th {\n",
       "        text-align: left;\n",
       "    }\n",
       "\n",
       "    .dataframe tbody tr th {\n",
       "        vertical-align: top;\n",
       "    }\n",
       "</style>\n",
       "<table border=\"1\" class=\"dataframe\">\n",
       "  <thead>\n",
       "    <tr style=\"text-align: right;\">\n",
       "      <th></th>\n",
       "      <th>CommentId</th>\n",
       "      <th>SurveyId</th>\n",
       "      <th>Comment</th>\n",
       "    </tr>\n",
       "  </thead>\n",
       "  <tbody>\n",
       "    <tr>\n",
       "      <th>35</th>\n",
       "      <td>a0fA0000000K10NIAS</td>\n",
       "      <td>a0gA0000003C2FsIAK</td>\n",
       "      <td>dave.w.wright@gmail.com</td>\n",
       "    </tr>\n",
       "    <tr>\n",
       "      <th>70</th>\n",
       "      <td>a0fA0000000K10wIAC</td>\n",
       "      <td>a0gA0000003C2FsIAK</td>\n",
       "      <td>support</td>\n",
       "    </tr>\n",
       "    <tr>\n",
       "      <th>72</th>\n",
       "      <td>a0fA0000000K10yIAC</td>\n",
       "      <td>a0gA0000003C2FsIAK</td>\n",
       "      <td>tkelly@t-edward.com</td>\n",
       "    </tr>\n",
       "    <tr>\n",
       "      <th>108</th>\n",
       "      <td>a0fA0000000K11YIAS</td>\n",
       "      <td>a0gA0000003C2FsIAK</td>\n",
       "      <td>cdevita@growthprocess.com</td>\n",
       "    </tr>\n",
       "    <tr>\n",
       "      <th>181</th>\n",
       "      <td>a0fA0000000K17tIAC</td>\n",
       "      <td>a0gA0000003C2FsIAK</td>\n",
       "      <td>james.ruttley@ideas.com</td>\n",
       "    </tr>\n",
       "  </tbody>\n",
       "</table>\n",
       "</div>"
      ],
      "text/plain": [
       "              CommentId            SurveyId                    Comment\n",
       "35   a0fA0000000K10NIAS  a0gA0000003C2FsIAK    dave.w.wright@gmail.com\n",
       "70   a0fA0000000K10wIAC  a0gA0000003C2FsIAK                    support\n",
       "72   a0fA0000000K10yIAC  a0gA0000003C2FsIAK        tkelly@t-edward.com\n",
       "108  a0fA0000000K11YIAS  a0gA0000003C2FsIAK  cdevita@growthprocess.com\n",
       "181  a0fA0000000K17tIAC  a0gA0000003C2FsIAK    james.ruttley@ideas.com"
      ]
     },
     "execution_count": 57,
     "metadata": {},
     "output_type": "execute_result"
    }
   ],
   "source": [
    "#printing the top five data of survey_data_clean using head function\n",
    "survey_df_clean.head()"
   ]
  },
  {
   "cell_type": "code",
   "execution_count": 58,
   "metadata": {},
   "outputs": [
    {
     "data": {
      "text/plain": [
       "5"
      ]
     },
     "execution_count": 58,
     "metadata": {},
     "output_type": "execute_result"
    }
   ],
   "source": [
    "# making a function to count the number of words in Comments column of survey_df_clean\n",
    "def find_word_count(input_string):\n",
    "    word_list = input_string.split()\n",
    "    word_len = len(word_list)\n",
    "    return word_len\n",
    "find_word_count(\"This is a test string\")"
   ]
  },
  {
   "cell_type": "code",
   "execution_count": 59,
   "metadata": {
    "collapsed": true
   },
   "outputs": [],
   "source": [
    "# Adding an additional column to data frame named WordCount & Applying the wordcount function on Comment to count the nnumber of string\n",
    "survey_df_clean[\"WordCount\"] = survey_df_clean[\"Comment\"].apply(find_word_count)"
   ]
  },
  {
   "cell_type": "code",
   "execution_count": 60,
   "metadata": {},
   "outputs": [
    {
     "data": {
      "text/html": [
       "<div>\n",
       "<style>\n",
       "    .dataframe thead tr:only-child th {\n",
       "        text-align: right;\n",
       "    }\n",
       "\n",
       "    .dataframe thead th {\n",
       "        text-align: left;\n",
       "    }\n",
       "\n",
       "    .dataframe tbody tr th {\n",
       "        vertical-align: top;\n",
       "    }\n",
       "</style>\n",
       "<table border=\"1\" class=\"dataframe\">\n",
       "  <thead>\n",
       "    <tr style=\"text-align: right;\">\n",
       "      <th></th>\n",
       "      <th>CommentId</th>\n",
       "      <th>SurveyId</th>\n",
       "      <th>Comment</th>\n",
       "      <th>WordCount</th>\n",
       "    </tr>\n",
       "  </thead>\n",
       "  <tbody>\n",
       "    <tr>\n",
       "      <th>35</th>\n",
       "      <td>a0fA0000000K10NIAS</td>\n",
       "      <td>a0gA0000003C2FsIAK</td>\n",
       "      <td>dave.w.wright@gmail.com</td>\n",
       "      <td>1</td>\n",
       "    </tr>\n",
       "    <tr>\n",
       "      <th>70</th>\n",
       "      <td>a0fA0000000K10wIAC</td>\n",
       "      <td>a0gA0000003C2FsIAK</td>\n",
       "      <td>support</td>\n",
       "      <td>1</td>\n",
       "    </tr>\n",
       "    <tr>\n",
       "      <th>72</th>\n",
       "      <td>a0fA0000000K10yIAC</td>\n",
       "      <td>a0gA0000003C2FsIAK</td>\n",
       "      <td>tkelly@t-edward.com</td>\n",
       "      <td>1</td>\n",
       "    </tr>\n",
       "    <tr>\n",
       "      <th>108</th>\n",
       "      <td>a0fA0000000K11YIAS</td>\n",
       "      <td>a0gA0000003C2FsIAK</td>\n",
       "      <td>cdevita@growthprocess.com</td>\n",
       "      <td>1</td>\n",
       "    </tr>\n",
       "    <tr>\n",
       "      <th>181</th>\n",
       "      <td>a0fA0000000K17tIAC</td>\n",
       "      <td>a0gA0000003C2FsIAK</td>\n",
       "      <td>james.ruttley@ideas.com</td>\n",
       "      <td>1</td>\n",
       "    </tr>\n",
       "  </tbody>\n",
       "</table>\n",
       "</div>"
      ],
      "text/plain": [
       "              CommentId            SurveyId                    Comment  \\\n",
       "35   a0fA0000000K10NIAS  a0gA0000003C2FsIAK    dave.w.wright@gmail.com   \n",
       "70   a0fA0000000K10wIAC  a0gA0000003C2FsIAK                    support   \n",
       "72   a0fA0000000K10yIAC  a0gA0000003C2FsIAK        tkelly@t-edward.com   \n",
       "108  a0fA0000000K11YIAS  a0gA0000003C2FsIAK  cdevita@growthprocess.com   \n",
       "181  a0fA0000000K17tIAC  a0gA0000003C2FsIAK    james.ruttley@ideas.com   \n",
       "\n",
       "     WordCount  \n",
       "35           1  \n",
       "70           1  \n",
       "72           1  \n",
       "108          1  \n",
       "181          1  "
      ]
     },
     "execution_count": 60,
     "metadata": {},
     "output_type": "execute_result"
    }
   ],
   "source": [
    "survey_df_clean.head()"
   ]
  },
  {
   "cell_type": "code",
   "execution_count": 61,
   "metadata": {},
   "outputs": [
    {
     "data": {
      "text/plain": [
       "count    9026.000000\n",
       "mean       25.091403\n",
       "std        36.322156\n",
       "min         1.000000\n",
       "25%         4.000000\n",
       "50%        13.000000\n",
       "75%        31.000000\n",
       "max       520.000000\n",
       "Name: WordCount, dtype: float64"
      ]
     },
     "execution_count": 61,
     "metadata": {},
     "output_type": "execute_result"
    }
   ],
   "source": [
    "# Describe function gives the mathematical detail about the given column\n",
    "survey_df_clean['WordCount'].describe()"
   ]
  },
  {
   "cell_type": "code",
   "execution_count": 62,
   "metadata": {},
   "outputs": [
    {
     "data": {
      "text/plain": [
       "array([ 'Move down south more to Santa Clara because the drive to and from the East Bay is murder.  The Fremont BART parking lot fills up so fast so early I was unable to ever park and ride from there and had to keep trying different stations each day which were usually all packed as well.\\r\\rHave fewer topics and make most of the sessions occur once or twice per day.  Once in the morning and one in the afternoon on one day or once in the morning on day 1 and one in the afternoon on day 2.  There were at least 3-4 topics I wanted to sit in on all going on at the same time so I had to make do with just the one session I could ever attend.  WIth fewer topics and having them occur more than once it would be easier for people to attend more of the topics that interest them.\\r\\rPay attention to session attendance.  I was only scanned once on the first day out of the 5 sessions I attended and in two cases, the rooms were so packed, some of us were sitting on the floor around the walls.  Topics that popular are a huge indicator that you need to hold it again later that day or the next day so some real time session adding could be useful.\\r\\rOne of the restaurants (the sausage one) was very strict about when you could use coupons and they even put out a sign that they were only taking 25 Pulse coupons on the third day, which was a very poor choice and I was surprised to see that someone running Pulse did not go over there to resolve that issue.\\r\\rLess marketing in the sessions.  There were a few sessions I attended, i would up walking out on because it was more about how we use our product to get CSM results.  The marketing should be left out in the kiosk area.  If these sessions still need to occur, then make it very clear in the description that thi is going to be focused on such and such company and their software.  This wasted my time when I could have attended another session that was interesting to me and would have been more useful.  \\r\\rHats!  What happened to the Pulse hats this year?  I still wear last years hat and was looking forward to a new version because love it so much!\\r\\rHave bigger sized shirts.  I wear a 2XL and the largest you had was XL.  That was very disappointing and made me feel left out because CSM\\'s apparently can\\'t be on the larger side.\\r\\rGet better quality of security guards.  Some were really good but many were very \"ghetto\" acting and spoke inappropriately.\\r\\rLower the price.  I am sure many others could not attend because the price was too high.  If not, then offer multiple pass types like a free third day pass, a first day pass, a second day pass and a first/second day pass all with different price points and ONE food coupon per day instead of two.'], dtype=object)"
      ]
     },
     "execution_count": 62,
     "metadata": {},
     "output_type": "execute_result"
    }
   ],
   "source": [
    "# Getting the comment which has 520 words or maximum words among all the Comments\n",
    "survey_df_clean[survey_df_clean[\"WordCount\"] == 520]['Comment'].values"
   ]
  },
  {
   "cell_type": "code",
   "execution_count": 63,
   "metadata": {
    "collapsed": true
   },
   "outputs": [],
   "source": [
    "# Printing the total shape of rows of the clean data which has non empty values of comments\n",
    "print survey_df_clean.shape\n",
    "# Printing the total number of rows which contain comments more than 30 words and making the data_frame more clean\n",
    "print survey_df_clean[survey_df_clean['WordCount']>30].shape"
   ]
  },
  {
   "cell_type": "code",
   "execution_count": 64,
   "metadata": {
    "collapsed": true
   },
   "outputs": [],
   "source": [
    "# Making a variable survey_df_clean_more and giving all the values of more clean of the data frame\n",
    "survey_df_clean_more = survey_df_clean[survey_df_clean[\"WordCount\"]>30]"
   ]
  },
  {
   "cell_type": "code",
   "execution_count": 65,
   "metadata": {},
   "outputs": [
    {
     "data": {
      "text/plain": [
       "(2313,)"
      ]
     },
     "execution_count": 65,
     "metadata": {},
     "output_type": "execute_result"
    }
   ],
   "source": [
    "survey_df_clean_more['Comment'].shape"
   ]
  },
  {
   "cell_type": "code",
   "execution_count": 66,
   "metadata": {
    "collapsed": true
   },
   "outputs": [],
   "source": [
    "doc_complete = survey_df_clean_more['Comment'][0:2300]"
   ]
  },
  {
   "cell_type": "code",
   "execution_count": 67,
   "metadata": {},
   "outputs": [
    {
     "data": {
      "text/plain": [
       "2300"
      ]
     },
     "execution_count": 67,
     "metadata": {},
     "output_type": "execute_result"
    }
   ],
   "source": [
    "len(doc_complete)"
   ]
  },
  {
   "cell_type": "code",
   "execution_count": 68,
   "metadata": {
    "collapsed": true
   },
   "outputs": [],
   "source": [
    "doc_new = survey_df_clean_more['Comment'][2300:]"
   ]
  },
  {
   "cell_type": "code",
   "execution_count": 69,
   "metadata": {},
   "outputs": [
    {
     "data": {
      "text/plain": [
       "63514    I have several customers who repeatedly compla...\n",
       "63522    I think we need to spend less time chasing the...\n",
       "63543    When releasing new Gainsight features in a \"BE...\n",
       "63549    We tend to develop for developers and not for ...\n",
       "63588    I find the UX/UI challenging. There are issues...\n",
       "63636    A lot of customer feedback has to do with (1) ...\n",
       "63658    For us the customer journey had taken a backse...\n",
       "63659    Our customer churn rate has dropped dramatical...\n",
       "63665    The Cockpit feature is really helping our CSM'...\n",
       "63669    CSM's now have a robust view of the customer j...\n",
       "63750    Customers ask for in product assistance to mak...\n",
       "63802    Yes features are released that we are sometime...\n",
       "63816    CTA's in three ways.  1) drop in usage trigger...\n",
       "Name: Comment, dtype: object"
      ]
     },
     "execution_count": 69,
     "metadata": {},
     "output_type": "execute_result"
    }
   ],
   "source": [
    "doc_new"
   ]
  },
  {
   "cell_type": "code",
   "execution_count": 70,
   "metadata": {
    "collapsed": true
   },
   "outputs": [],
   "source": [
    "# doc1 = \"Sugar is bad to consume. My sister likes to have sugar, but not my father.\"\n",
    "# doc2 = \"My father spends a lot of time driving my sister around to dance practice.\"\n",
    "# doc3 = \"Doctors suggest that driving may cause increased stress and blood pressure.\"\n",
    "# doc4 = \"Sometimes I feel pressure to perform well at school, but my father never seems to drive my sister to do better.\"\n",
    "# doc5 = \"Health experts say that Sugar is not good for your lifestyle.\"\n",
    "\n",
    "# compile documents\n",
    "# doc_complete = [doc1, doc2, doc3, doc4, doc5]"
   ]
  },
  {
   "cell_type": "markdown",
   "metadata": {},
   "source": [
    "# Cleaning and Preprocessing"
   ]
  },
  {
   "cell_type": "code",
   "execution_count": 71,
   "metadata": {
    "collapsed": true
   },
   "outputs": [],
   "source": [
    "from nltk.corpus import stopwords \n",
    "from nltk.stem.wordnet import WordNetLemmatizer\n",
    "import string\n",
    "stop = set(stopwords.words('english'))\n",
    "exclude = set(string.punctuation) \n",
    "lemma = WordNetLemmatizer()\n",
    "def clean(doc):\n",
    "    stop_free = \" \".join([i for i in doc.lower().split() if i not in stop])\n",
    "    punc_free = ''.join(ch for ch in stop_free if ch not in exclude)\n",
    "    normalized = \" \".join(lemma.lemmatize(word) for word in punc_free.split())\n",
    "    return normalized\n",
    "\n",
    "doc_clean = [clean(doc).split() for doc in doc_complete]"
   ]
  },
  {
   "cell_type": "code",
   "execution_count": 72,
   "metadata": {
    "collapsed": true
   },
   "outputs": [],
   "source": [
    "# stopwords.words('english')"
   ]
  },
  {
   "cell_type": "code",
   "execution_count": 73,
   "metadata": {
    "collapsed": true
   },
   "outputs": [],
   "source": [
    "# exclude"
   ]
  },
  {
   "cell_type": "code",
   "execution_count": 74,
   "metadata": {},
   "outputs": [
    {
     "data": {
      "text/plain": [
       "[u'professional',\n",
       " u'service',\n",
       " u'person',\n",
       " u'owning',\n",
       " u'process',\n",
       " u'would',\n",
       " u'nice',\n",
       " u'unique',\n",
       " u'position',\n",
       " u'someone',\n",
       " u'fully',\n",
       " u'dedicate',\n",
       " u'impl',\n",
       " u'drive',\n",
       " u'impl',\n",
       " u'however',\n",
       " u'may',\n",
       " u'type',\n",
       " u'focused',\n",
       " u'resource',\n",
       " u'moving',\n",
       " u'forward',\n",
       " u'would',\n",
       " u'look',\n",
       " u'gainsight',\n",
       " u'provide']"
      ]
     },
     "execution_count": 74,
     "metadata": {},
     "output_type": "execute_result"
    }
   ],
   "source": [
    "doc_clean[0]"
   ]
  },
  {
   "cell_type": "markdown",
   "metadata": {},
   "source": [
    "# Preparing Document-Term Matrix"
   ]
  },
  {
   "cell_type": "code",
   "execution_count": 75,
   "metadata": {
    "collapsed": true
   },
   "outputs": [],
   "source": [
    "# Importing Gensim\n",
    "import gensim\n",
    "from gensim import corpora\n",
    "\n",
    "# Creating the term dictionary of our courpus, where every unique term is assigned an index. \n",
    "dictionary = corpora.Dictionary(doc_clean)\n",
    "\n",
    "# Converting list of documents (corpus) into Document Term Matrix using dictionary prepared above.\n",
    "doc_term_matrix = [dictionary.doc2bow(doc) for doc in doc_clean]"
   ]
  },
  {
   "cell_type": "code",
   "execution_count": 76,
   "metadata": {},
   "outputs": [
    {
     "data": {
      "text/plain": [
       "7501"
      ]
     },
     "execution_count": 76,
     "metadata": {},
     "output_type": "execute_result"
    }
   ],
   "source": [
    "len(dictionary.keys())"
   ]
  },
  {
   "cell_type": "code",
   "execution_count": 77,
   "metadata": {},
   "outputs": [
    {
     "data": {
      "text/plain": [
       "2300"
      ]
     },
     "execution_count": 77,
     "metadata": {},
     "output_type": "execute_result"
    }
   ],
   "source": [
    "len(doc_term_matrix)"
   ]
  },
  {
   "cell_type": "code",
   "execution_count": 78,
   "metadata": {},
   "outputs": [
    {
     "data": {
      "text/plain": [
       "[(0, 2),\n",
       " (1, 1),\n",
       " (2, 1),\n",
       " (3, 1),\n",
       " (4, 1),\n",
       " (5, 1),\n",
       " (6, 1),\n",
       " (7, 1),\n",
       " (8, 1),\n",
       " (9, 1),\n",
       " (10, 1),\n",
       " (11, 1),\n",
       " (12, 1),\n",
       " (13, 1),\n",
       " (14, 1),\n",
       " (15, 1),\n",
       " (16, 1),\n",
       " (17, 1),\n",
       " (18, 1),\n",
       " (19, 1),\n",
       " (20, 1),\n",
       " (21, 1),\n",
       " (22, 1),\n",
       " (23, 2)]"
      ]
     },
     "execution_count": 78,
     "metadata": {},
     "output_type": "execute_result"
    }
   ],
   "source": [
    "doc_term_matrix[0]"
   ]
  },
  {
   "cell_type": "markdown",
   "metadata": {},
   "source": [
    "# Running LDA Model"
   ]
  },
  {
   "cell_type": "code",
   "execution_count": 79,
   "metadata": {
    "collapsed": true
   },
   "outputs": [],
   "source": [
    "# Creating the object for LDA model using gensim library\n",
    "Lda = gensim.models.ldamodel.LdaModel\n",
    "\n",
    "# Running and Trainign LDA model on the document term matrix.\n",
    "ldamodel = Lda(doc_term_matrix, num_topics=20, id2word = dictionary, passes=50)"
   ]
  },
  {
   "cell_type": "markdown",
   "metadata": {},
   "source": [
    "# Results"
   ]
  },
  {
   "cell_type": "code",
   "execution_count": 80,
   "metadata": {},
   "outputs": [
    {
     "data": {
      "text/plain": [
       "[(0,\n",
       "  u'0.017*\"like\" + 0.016*\"course\" + 0.012*\"would\" + 0.011*\"also\" + 0.011*\"day\" + 0.010*\"time\" + 0.010*\"people\" + 0.010*\"team\" + 0.010*\"need\" + 0.009*\"it\" + 0.009*\"sure\" + 0.009*\"feel\" + 0.009*\"go\" + 0.008*\"level\" + 0.008*\"make\" + 0.008*\"g\" + 0.008*\"center\" + 0.007*\"though\" + 0.006*\"least\" + 0.006*\"convention\" + 0.006*\"felt\" + 0.006*\"good\" + 0.006*\"c\" + 0.006*\"find\" + 0.006*\"look\" + 0.006*\"customer\" + 0.006*\"everyone\" + 0.006*\"almost\" + 0.006*\"together\" + 0.005*\"used\"'),\n",
       " (1,\n",
       "  u'0.037*\"customer\" + 0.023*\"gainsight\" + 0.015*\"account\" + 0.012*\"csm\" + 0.011*\"success\" + 0.010*\"ctas\" + 0.010*\"team\" + 0.009*\"survey\" + 0.009*\"product\" + 0.008*\"way\" + 0.007*\"would\" + 0.007*\"work\" + 0.007*\"business\" + 0.007*\"project\" + 0.007*\"data\" + 0.007*\"year\" + 0.007*\"management\" + 0.007*\"around\" + 0.006*\"u\" + 0.006*\"csms\" + 0.006*\"usage\" + 0.006*\"create\" + 0.006*\"health\" + 0.006*\"within\" + 0.005*\"help\" + 0.005*\"helpful\" + 0.005*\"org\" + 0.005*\"related\" + 0.005*\"rule\" + 0.005*\"great\"'),\n",
       " (2,\n",
       "  u'0.033*\"customer\" + 0.024*\"feature\" + 0.024*\"product\" + 0.017*\"team\" + 0.014*\"requirement\" + 0.010*\"model\" + 0.010*\"bug\" + 0.009*\"would\" + 0.009*\"never\" + 0.009*\"like\" + 0.009*\"use\" + 0.009*\"from\" + 0.009*\"user\" + 0.009*\"sometimes\" + 0.008*\"success\" + 0.008*\"end\" + 0.007*\"company\" + 0.007*\"focused\" + 0.007*\"story\" + 0.006*\"much\" + 0.006*\"follow\" + 0.006*\"request\" + 0.006*\"dont\" + 0.006*\"marketing\" + 0.006*\"example\" + 0.006*\"implementing\" + 0.006*\"content\" + 0.006*\"instance\" + 0.006*\"it\" + 0.005*\"single\"'),\n",
       " (3,\n",
       "  u'0.023*\"gainsight\" + 0.014*\"would\" + 0.013*\"u\" + 0.012*\"data\" + 0.011*\"need\" + 0.011*\"get\" + 0.010*\"work\" + 0.010*\"implementation\" + 0.010*\"use\" + 0.010*\"team\" + 0.010*\"dont\" + 0.009*\"time\" + 0.008*\"make\" + 0.008*\"thing\" + 0.008*\"product\" + 0.008*\"support\" + 0.008*\"really\" + 0.007*\"lot\" + 0.007*\"help\" + 0.007*\"tool\" + 0.007*\"express\" + 0.007*\"process\" + 0.007*\"know\" + 0.006*\"success\" + 0.006*\"also\" + 0.006*\"still\" + 0.006*\"like\" + 0.006*\"it\" + 0.006*\"able\" + 0.005*\"salesforce\"'),\n",
       " (4,\n",
       "  u'0.017*\"would\" + 0.017*\"time\" + 0.017*\"session\" + 0.013*\"think\" + 0.011*\"go\" + 0.011*\"one\" + 0.009*\"different\" + 0.009*\"like\" + 0.009*\"room\" + 0.008*\"better\" + 0.008*\"need\" + 0.008*\"found\" + 0.008*\"minute\" + 0.007*\"see\" + 0.007*\"level\" + 0.007*\"process\" + 0.006*\"it\" + 0.006*\"10\" + 0.006*\"pulse\" + 0.006*\"location\" + 0.006*\"gainsight\" + 0.006*\"value\" + 0.006*\"well\" + 0.006*\"high\" + 0.006*\"around\" + 0.006*\"attendee\" + 0.005*\"business\" + 0.005*\"another\" + 0.005*\"long\" + 0.005*\"point\"'),\n",
       " (5,\n",
       "  u'0.017*\"professional\" + 0.013*\"value\" + 0.011*\"vault\" + 0.010*\"exhibitor\" + 0.010*\"find\" + 0.010*\"flexible\" + 0.009*\"designed\" + 0.009*\"could\" + 0.009*\"course\" + 0.009*\"loading\" + 0.008*\"configured\" + 0.008*\"strongly\" + 0.008*\"quality\" + 0.008*\"deal\" + 0.008*\"paying\" + 0.007*\"organisation\" + 0.007*\"host\" + 0.007*\"every\" + 0.007*\"someone\" + 0.007*\"ensure\" + 0.007*\"struggling\" + 0.007*\"4\" + 0.006*\"here\" + 0.006*\"awkward\" + 0.006*\"position\" + 0.006*\"else\" + 0.006*\"always\" + 0.006*\"concern\" + 0.005*\"run\" + 0.005*\"apps\"'),\n",
       " (6,\n",
       "  u'0.049*\"session\" + 0.026*\"would\" + 0.018*\"time\" + 0.011*\"attend\" + 0.009*\"one\" + 0.009*\"id\" + 0.009*\"like\" + 0.009*\"also\" + 0.009*\"room\" + 0.008*\"agenda\" + 0.008*\"able\" + 0.008*\"day\" + 0.008*\"presentation\" + 0.007*\"people\" + 0.007*\"great\" + 0.007*\"attended\" + 0.006*\"many\" + 0.006*\"description\" + 0.006*\"water\" + 0.006*\"know\" + 0.006*\"pick\" + 0.006*\"maybe\" + 0.005*\"hard\" + 0.005*\"bit\" + 0.005*\"app\" + 0.005*\"option\" + 0.005*\"qa\" + 0.005*\"first\" + 0.005*\"track\" + 0.005*\"presenter\"'),\n",
       " (7,\n",
       "  u'0.041*\"customer\" + 0.028*\"gainsight\" + 0.024*\"product\" + 0.021*\"feature\" + 0.015*\"also\" + 0.013*\"like\" + 0.012*\"see\" + 0.012*\"team\" + 0.012*\"support\" + 0.011*\"many\" + 0.011*\"use\" + 0.011*\"feedback\" + 0.008*\"case\" + 0.008*\"would\" + 0.008*\"specific\" + 0.008*\"ticket\" + 0.008*\"solution\" + 0.008*\"service\" + 0.008*\"quality\" + 0.007*\"page\" + 0.007*\"help\" + 0.007*\"data\" + 0.007*\"using\" + 0.007*\"community\" + 0.007*\"need\" + 0.006*\"admins\" + 0.006*\"issue\" + 0.006*\"multiple\" + 0.006*\"similar\" + 0.005*\"share\"'),\n",
       " (8,\n",
       "  u'0.020*\"think\" + 0.018*\"beyond\" + 0.017*\"might\" + 0.015*\"would\" + 0.015*\"many\" + 0.013*\"space\" + 0.012*\"also\" + 0.011*\"module\" + 0.011*\"see\" + 0.010*\"like\" + 0.010*\"take\" + 0.009*\"issue\" + 0.009*\"thing\" + 0.009*\"user\" + 0.009*\"c\" + 0.009*\"class\" + 0.008*\"that\" + 0.008*\"bandwidth\" + 0.008*\"want\" + 0.008*\"tech\" + 0.008*\"enjoy\" + 0.008*\"contact\" + 0.007*\"im\" + 0.007*\"intuitive\" + 0.007*\"answer\" + 0.007*\"click\" + 0.007*\"industry\" + 0.007*\"sometimes\" + 0.007*\"specifically\" + 0.007*\"quite\"'),\n",
       " (9,\n",
       "  u'0.013*\"company\" + 0.011*\"something\" + 0.011*\"im\" + 0.011*\"gainsight\" + 0.010*\"aircraft\" + 0.009*\"learn\" + 0.009*\"workshop\" + 0.009*\"user\" + 0.009*\"carrier\" + 0.008*\"information\" + 0.008*\"got\" + 0.008*\"concept\" + 0.008*\"product\" + 0.008*\"could\" + 0.007*\"know\" + 0.007*\"found\" + 0.007*\"free\" + 0.007*\"never\" + 0.006*\"follow\" + 0.006*\"process\" + 0.006*\"new\" + 0.006*\"review\" + 0.006*\"think\" + 0.006*\"piece\" + 0.006*\"8\" + 0.006*\"definitely\" + 0.006*\"keep\" + 0.006*\"stay\" + 0.006*\"lot\" + 0.006*\"available\"'),\n",
       " (10,\n",
       "  u'0.028*\"success\" + 0.025*\"customer\" + 0.015*\"breakout\" + 0.015*\"discussion\" + 0.014*\"half\" + 0.014*\"money\" + 0.013*\"this\" + 0.012*\"speaker\" + 0.012*\"session\" + 0.011*\"slido\" + 0.010*\"using\" + 0.009*\"networking\" + 0.009*\"moderator\" + 0.008*\"track\" + 0.008*\"le\" + 0.007*\"various\" + 0.007*\"extremely\" + 0.007*\"tool\" + 0.007*\"way\" + 0.007*\"conversation\" + 0.007*\"incredibly\" + 0.006*\"sure\" + 0.006*\"product\" + 0.006*\"keynote\" + 0.006*\"opposed\" + 0.006*\"admin\" + 0.006*\"lounge\" + 0.006*\"improve\" + 0.006*\"it\" + 0.006*\"appropriate\"'),\n",
       " (11,\n",
       "  u'0.082*\"session\" + 0.047*\"room\" + 0.024*\"get\" + 0.023*\"time\" + 0.017*\"people\" + 0.013*\"space\" + 0.011*\"also\" + 0.011*\"many\" + 0.011*\"attend\" + 0.010*\"larger\" + 0.010*\"conference\" + 0.009*\"venue\" + 0.009*\"bigger\" + 0.009*\"next\" + 0.009*\"away\" + 0.008*\"better\" + 0.008*\"breakout\" + 0.007*\"vendor\" + 0.007*\"wanted\" + 0.007*\"need\" + 0.006*\"turned\" + 0.006*\"lot\" + 0.006*\"one\" + 0.006*\"would\" + 0.006*\"like\" + 0.006*\"wifi\" + 0.006*\"line\" + 0.006*\"crowded\" + 0.006*\"hallway\" + 0.005*\"due\"'),\n",
       " (12,\n",
       "  u'0.031*\"day\" + 0.029*\"would\" + 0.020*\"time\" + 0.016*\"could\" + 0.016*\"question\" + 0.015*\"session\" + 0.012*\"training\" + 0.011*\"get\" + 0.011*\"topic\" + 0.011*\"didnt\" + 0.010*\"company\" + 0.010*\"admin\" + 0.010*\"people\" + 0.009*\"it\" + 0.009*\"much\" + 0.009*\"workshop\" + 0.009*\"think\" + 0.008*\"3\" + 0.007*\"first\" + 0.007*\"also\" + 0.007*\"everyone\" + 0.007*\"one\" + 0.006*\"break\" + 0.006*\"lot\" + 0.006*\"actually\" + 0.006*\"seemed\" + 0.006*\"better\" + 0.006*\"presenter\" + 0.006*\"felt\" + 0.006*\"2\"'),\n",
       " (13,\n",
       "  u'0.019*\"issue\" + 0.018*\"use\" + 0.017*\"one\" + 0.016*\"feature\" + 0.013*\"eg\" + 0.012*\"release\" + 0.012*\"ask\" + 0.010*\"internally\" + 0.010*\"workarounds\" + 0.010*\"guy\" + 0.009*\"thing\" + 0.009*\"slide\" + 0.009*\"never\" + 0.009*\"fact\" + 0.009*\"well\" + 0.008*\"look\" + 0.008*\"report\" + 0.008*\"company\" + 0.008*\"question\" + 0.008*\"new\" + 0.008*\"shorter\" + 0.007*\"text\" + 0.007*\"pace\" + 0.007*\"reach\" + 0.007*\"address\" + 0.007*\"try\" + 0.006*\"really\" + 0.006*\"make\" + 0.006*\"simple\" + 0.006*\"click\"'),\n",
       " (14,\n",
       "  u'0.028*\"session\" + 0.019*\"would\" + 0.013*\"different\" + 0.011*\"people\" + 0.010*\"good\" + 0.008*\"case\" + 0.008*\"customer\" + 0.008*\"end\" + 0.008*\"information\" + 0.008*\"every\" + 0.008*\"person\" + 0.008*\"day\" + 0.008*\"lot\" + 0.007*\"thing\" + 0.007*\"speaker\" + 0.007*\"client\" + 0.007*\"felt\" + 0.007*\"success\" + 0.007*\"need\" + 0.006*\"process\" + 0.006*\"circle\" + 0.006*\"much\" + 0.006*\"could\" + 0.006*\"really\" + 0.005*\"deck\" + 0.005*\"conference\" + 0.005*\"touch\" + 0.005*\"work\" + 0.005*\"instructor\" + 0.005*\"training\"'),\n",
       " (15,\n",
       "  u'0.026*\"issue\" + 0.017*\"email\" + 0.015*\"day\" + 0.014*\"people\" + 0.012*\"team\" + 0.011*\"way\" + 0.011*\"learner\" + 0.010*\"conference\" + 0.010*\"contact\" + 0.010*\"mda\" + 0.009*\"them\" + 0.009*\"set\" + 0.009*\"name\" + 0.009*\"could\" + 0.008*\"least\" + 0.008*\"got\" + 0.008*\"able\" + 0.007*\"idea\" + 0.007*\"connect\" + 0.007*\"per\" + 0.007*\"time\" + 0.007*\"u\" + 0.006*\"first\" + 0.006*\"available\" + 0.006*\"would\" + 0.006*\"based\" + 0.006*\"point\" + 0.006*\"coming\" + 0.006*\"material\" + 0.006*\"process\"'),\n",
       " (16,\n",
       "  u'0.019*\"great\" + 0.018*\"really\" + 0.014*\"topic\" + 0.012*\"show\" + 0.011*\"gainsight\" + 0.011*\"customer\" + 0.010*\"g\" + 0.009*\"session\" + 0.009*\"little\" + 0.009*\"hornet\" + 0.009*\"approach\" + 0.009*\"good\" + 0.008*\"way\" + 0.008*\"felt\" + 0.008*\"like\" + 0.008*\"feel\" + 0.007*\"know\" + 0.007*\"experience\" + 0.007*\"conference\" + 0.007*\"everything\" + 0.007*\"direct\" + 0.006*\"various\" + 0.006*\"wide\" + 0.006*\"course\" + 0.006*\"made\" + 0.006*\"new\" + 0.005*\"team\" + 0.005*\"job\" + 0.005*\"wish\" + 0.005*\"theme\"'),\n",
       " (17,\n",
       "  u'0.011*\"amazing\" + 0.011*\"local\" + 0.011*\"sponsor\" + 0.010*\"oakland\" + 0.010*\"thank\" + 0.010*\"feather\" + 0.009*\"attendee\" + 0.009*\"bird\" + 0.009*\"many\" + 0.009*\"navigate\" + 0.009*\"venue\" + 0.009*\"good\" + 0.008*\"paid\" + 0.008*\"extremely\" + 0.008*\"phone\" + 0.008*\"price\" + 0.008*\"1\" + 0.008*\"night\" + 0.008*\"learn\" + 0.007*\"detail\" + 0.007*\"conference\" + 0.007*\"cant\" + 0.007*\"really\" + 0.007*\"day\" + 0.007*\"space\" + 0.006*\"great\" + 0.006*\"executed\" + 0.006*\"complicated\" + 0.006*\"fun\" + 0.006*\"it\"'),\n",
       " (18,\n",
       "  u'0.033*\"customer\" + 0.025*\"c\" + 0.021*\"team\" + 0.017*\"success\" + 0.015*\"would\" + 0.015*\"best\" + 0.014*\"track\" + 0.014*\"practice\" + 0.014*\"new\" + 0.011*\"company\" + 0.011*\"value\" + 0.011*\"many\" + 0.010*\"csm\" + 0.008*\"yes\" + 0.008*\"program\" + 0.007*\"around\" + 0.007*\"one\" + 0.006*\"event\" + 0.006*\"leader\" + 0.006*\"starting\" + 0.006*\"like\" + 0.006*\"goal\" + 0.005*\"even\" + 0.005*\"learn\" + 0.005*\"great\" + 0.005*\"session\" + 0.005*\"process\" + 0.005*\"software\" + 0.005*\"training\" + 0.005*\"old\"'),\n",
       " (19,\n",
       "  u'0.034*\"session\" + 0.028*\"great\" + 0.016*\"really\" + 0.015*\"also\" + 0.014*\"food\" + 0.014*\"day\" + 0.011*\"year\" + 0.011*\"loved\" + 0.010*\"good\" + 0.010*\"keynote\" + 0.010*\"presentation\" + 0.010*\"pulse\" + 0.010*\"conference\" + 0.009*\"liked\" + 0.008*\"thought\" + 0.008*\"well\" + 0.008*\"c\" + 0.008*\"lot\" + 0.008*\"truck\" + 0.008*\"speaker\" + 0.007*\"theme\" + 0.007*\"event\" + 0.007*\"content\" + 0.007*\"enjoyed\" + 0.007*\"like\" + 0.007*\"success\" + 0.006*\"last\" + 0.006*\"ice\" + 0.006*\"company\" + 0.006*\"overall\"')]"
      ]
     },
     "execution_count": 80,
     "metadata": {},
     "output_type": "execute_result"
    }
   ],
   "source": [
    "ldamodel.show_topics(num_topics=20, num_words=30)"
   ]
  },
  {
   "cell_type": "code",
   "execution_count": 81,
   "metadata": {},
   "outputs": [
    {
     "data": {
      "text/plain": [
       "[(2, 0.21189380618556639),\n",
       " (3, 0.40260787862057906),\n",
       " (9, 0.040594660812633312),\n",
       " (15, 0.066588887066225094),\n",
       " (16, 0.20753154481531924),\n",
       " (18, 0.052834504268891004)]"
      ]
     },
     "execution_count": 81,
     "metadata": {},
     "output_type": "execute_result"
    }
   ],
   "source": [
    "ldamodel.get_document_topics(doc_term_matrix[1])"
   ]
  },
  {
   "cell_type": "markdown",
   "metadata": {},
   "source": [
    "## New Data Prediction"
   ]
  },
  {
   "cell_type": "code",
   "execution_count": 82,
   "metadata": {},
   "outputs": [
    {
     "data": {
      "text/plain": [
       "63514    I have several customers who repeatedly compla...\n",
       "63522    I think we need to spend less time chasing the...\n",
       "63543    When releasing new Gainsight features in a \"BE...\n",
       "63549    We tend to develop for developers and not for ...\n",
       "63588    I find the UX/UI challenging. There are issues...\n",
       "63636    A lot of customer feedback has to do with (1) ...\n",
       "63658    For us the customer journey had taken a backse...\n",
       "63659    Our customer churn rate has dropped dramatical...\n",
       "63665    The Cockpit feature is really helping our CSM'...\n",
       "63669    CSM's now have a robust view of the customer j...\n",
       "63750    Customers ask for in product assistance to mak...\n",
       "63802    Yes features are released that we are sometime...\n",
       "63816    CTA's in three ways.  1) drop in usage trigger...\n",
       "Name: Comment, dtype: object"
      ]
     },
     "execution_count": 82,
     "metadata": {},
     "output_type": "execute_result"
    }
   ],
   "source": [
    "doc_new"
   ]
  },
  {
   "cell_type": "code",
   "execution_count": 83,
   "metadata": {
    "collapsed": true
   },
   "outputs": [],
   "source": [
    "doc_clean_new = [clean(doc).split() for doc in doc_new]"
   ]
  },
  {
   "cell_type": "code",
   "execution_count": 84,
   "metadata": {},
   "outputs": [
    {
     "data": {
      "text/plain": [
       "[u'several',\n",
       " u'customer',\n",
       " u'repeatedly',\n",
       " u'complain',\n",
       " u'feature',\n",
       " u'parity',\n",
       " u'example',\n",
       " u'creating',\n",
       " u'bionic',\n",
       " u'rule',\n",
       " u'delivering',\n",
       " u'standard',\n",
       " u'spreadsheet',\n",
       " u'able',\n",
       " u'write',\n",
       " u'scorecard',\n",
       " u'20',\n",
       " u'table',\n",
       " u'using',\n",
       " u'custom',\n",
       " u'rule',\n",
       " u'able',\n",
       " u'close',\n",
       " u'ctas',\n",
       " u'bionic',\n",
       " u'rule',\n",
       " u'many',\n",
       " u'more',\n",
       " u'customer',\n",
       " u'opinion',\n",
       " u'would',\n",
       " u'rather',\n",
       " u'wait',\n",
       " u'another',\n",
       " u'cycle',\n",
       " u'product',\n",
       " u'ready',\n",
       " u'market']"
      ]
     },
     "execution_count": 84,
     "metadata": {},
     "output_type": "execute_result"
    }
   ],
   "source": [
    "doc_clean_new[0]"
   ]
  },
  {
   "cell_type": "code",
   "execution_count": 85,
   "metadata": {
    "collapsed": true
   },
   "outputs": [],
   "source": [
    "# dictionary_new = corpora.Dictionary(doc_clean_new)"
   ]
  },
  {
   "cell_type": "code",
   "execution_count": 86,
   "metadata": {
    "collapsed": true
   },
   "outputs": [],
   "source": [
    "# dictionary_new.get(0)"
   ]
  },
  {
   "cell_type": "code",
   "execution_count": 87,
   "metadata": {
    "collapsed": true
   },
   "outputs": [],
   "source": [
    "# dictionary.get(0)"
   ]
  },
  {
   "cell_type": "code",
   "execution_count": 88,
   "metadata": {
    "collapsed": true
   },
   "outputs": [],
   "source": [
    "doc_term_matrix_new = [dictionary.doc2bow(doc) for doc in doc_clean_new]"
   ]
  },
  {
   "cell_type": "code",
   "execution_count": 89,
   "metadata": {},
   "outputs": [
    {
     "data": {
      "text/plain": [
       "13"
      ]
     },
     "execution_count": 89,
     "metadata": {},
     "output_type": "execute_result"
    }
   ],
   "source": [
    "len(doc_term_matrix_new)"
   ]
  },
  {
   "cell_type": "code",
   "execution_count": 90,
   "metadata": {},
   "outputs": [
    {
     "data": {
      "text/plain": [
       "[(0, 1),\n",
       " (37, 2),\n",
       " (59, 1),\n",
       " (126, 1),\n",
       " (142, 1),\n",
       " (179, 1),\n",
       " (231, 2),\n",
       " (320, 1),\n",
       " (329, 1),\n",
       " (437, 1),\n",
       " (581, 1),\n",
       " (600, 1),\n",
       " (647, 1),\n",
       " (704, 1),\n",
       " (719, 1),\n",
       " (953, 3),\n",
       " (1127, 1),\n",
       " (1140, 1),\n",
       " (1316, 1),\n",
       " (1402, 1),\n",
       " (1426, 1),\n",
       " (1480, 1),\n",
       " (1482, 1),\n",
       " (1549, 1),\n",
       " (1558, 1),\n",
       " (1772, 1),\n",
       " (2349, 1),\n",
       " (2384, 1),\n",
       " (2487, 1),\n",
       " (3274, 1),\n",
       " (3662, 1),\n",
       " (6586, 2)]"
      ]
     },
     "execution_count": 90,
     "metadata": {},
     "output_type": "execute_result"
    }
   ],
   "source": [
    "doc_term_matrix_new[0]"
   ]
  },
  {
   "cell_type": "code",
   "execution_count": 91,
   "metadata": {},
   "outputs": [
    {
     "data": {
      "text/plain": [
       "[(1, 0.32281261567043629),\n",
       " (2, 0.13230173150483385),\n",
       " (3, 0.24713631855223844),\n",
       " (5, 0.027631578947495499),\n",
       " (9, 0.070073000168074551),\n",
       " (11, 0.087894189243500218),\n",
       " (19, 0.095045302322345482)]"
      ]
     },
     "execution_count": 91,
     "metadata": {},
     "output_type": "execute_result"
    }
   ],
   "source": [
    "ldamodel.get_document_topics(doc_term_matrix_new[0])"
   ]
  },
  {
   "cell_type": "code",
   "execution_count": 92,
   "metadata": {},
   "outputs": [
    {
     "data": {
      "text/plain": [
       "[(u'gainsight', 0.023039595508681981),\n",
       " (u'would', 0.014415641807974073),\n",
       " (u'u', 0.013193039290799079),\n",
       " (u'data', 0.011595463471180496),\n",
       " (u'need', 0.011272573623959059),\n",
       " (u'get', 0.010694076669463502),\n",
       " (u'work', 0.010275789183220108),\n",
       " (u'implementation', 0.0098231216076164474),\n",
       " (u'use', 0.00970732984962803),\n",
       " (u'team', 0.0095398066794383889)]"
      ]
     },
     "execution_count": 92,
     "metadata": {},
     "output_type": "execute_result"
    }
   ],
   "source": [
    "ldamodel.show_topic(3)"
   ]
  },
  {
   "cell_type": "code",
   "execution_count": 93,
   "metadata": {},
   "outputs": [],
   "source": [
    "import pickle\n",
    "\n",
    "file_Name = \"topic_model.pkl\"\n",
    "# open the file for writing\n",
    "fileObject = open(file_Name,'wb') \n",
    "\n",
    "# this writes the object a to the\n",
    "# file named 'testfile'\n",
    "pickle.dump(ldamodel,fileObject)   \n",
    "\n",
    "# here we close the fileObject\n",
    "fileObject.close()\n",
    "# # we open the file for reading\n",
    "# fileObject_open = open(file_Name,'r')  \n",
    "# # load the object from the file into var b\n",
    "# b = pickle.load(fileObject_open)  \n",
    "\n",
    "# a==b"
   ]
  },
  {
   "cell_type": "code",
   "execution_count": 94,
   "metadata": {},
   "outputs": [
    {
     "ename": "NameError",
     "evalue": "name 'a' is not defined",
     "output_type": "error",
     "traceback": [
      "\u001b[0;31m---------------------------------------------------------------------------\u001b[0m",
      "\u001b[0;31mNameError\u001b[0m                                 Traceback (most recent call last)",
      "\u001b[0;32m<ipython-input-94-60b725f10c9c>\u001b[0m in \u001b[0;36m<module>\u001b[0;34m()\u001b[0m\n\u001b[0;32m----> 1\u001b[0;31m \u001b[0ma\u001b[0m\u001b[0;34m\u001b[0m\u001b[0m\n\u001b[0m",
      "\u001b[0;31mNameError\u001b[0m: name 'a' is not defined"
     ]
    }
   ],
   "source": [
    "a"
   ]
  },
  {
   "cell_type": "code",
   "execution_count": null,
   "metadata": {},
   "outputs": [],
   "source": [
    "b"
   ]
  },
  {
   "cell_type": "code",
   "execution_count": null,
   "metadata": {},
   "outputs": [],
   "source": [
    "ldamodel.show_topics(num_topics=30)"
   ]
  },
  {
   "cell_type": "code",
   "execution_count": null,
   "metadata": {},
   "outputs": [],
   "source": [
    "ldamodel.top_topics(doc_term_matrix)"
   ]
  },
  {
   "cell_type": "code",
   "execution_count": null,
   "metadata": {
    "collapsed": true
   },
   "outputs": [],
   "source": []
  }
 ],
 "metadata": {
  "kernelspec": {
   "display_name": "Python 2",
   "language": "python",
   "name": "python2"
  },
  "language_info": {
   "codemirror_mode": {
    "name": "ipython",
    "version": 2
   },
   "file_extension": ".py",
   "mimetype": "text/x-python",
   "name": "python",
   "nbconvert_exporter": "python",
   "pygments_lexer": "ipython2",
   "version": "2.7.13"
  }
 },
 "nbformat": 4,
 "nbformat_minor": 2
}
