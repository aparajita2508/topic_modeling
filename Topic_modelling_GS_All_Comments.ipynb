{
 "cells": [
  {
   "cell_type": "code",
   "execution_count": 2,
   "metadata": {
    "collapsed": true
   },
   "outputs": [],
   "source": [
    "import pandas as pd"
   ]
  },
  {
   "cell_type": "code",
   "execution_count": 3,
   "metadata": {
    "collapsed": true
   },
   "outputs": [],
   "source": [
    "survey_df = pd.read_csv(\"/Users/aparajita/Downloads/Survey_Data.csv\")"
   ]
  },
  {
   "cell_type": "code",
   "execution_count": 4,
   "metadata": {},
   "outputs": [
    {
     "data": {
      "text/html": [
       "<div>\n",
       "<style>\n",
       "    .dataframe thead tr:only-child th {\n",
       "        text-align: right;\n",
       "    }\n",
       "\n",
       "    .dataframe thead th {\n",
       "        text-align: left;\n",
       "    }\n",
       "\n",
       "    .dataframe tbody tr th {\n",
       "        vertical-align: top;\n",
       "    }\n",
       "</style>\n",
       "<table border=\"1\" class=\"dataframe\">\n",
       "  <thead>\n",
       "    <tr style=\"text-align: right;\">\n",
       "      <th></th>\n",
       "      <th>CommentId</th>\n",
       "      <th>SurveyId</th>\n",
       "      <th>Comment</th>\n",
       "    </tr>\n",
       "  </thead>\n",
       "  <tbody>\n",
       "    <tr>\n",
       "      <th>0</th>\n",
       "      <td>a0fA0000000K0zoIAC</td>\n",
       "      <td>a0gA0000003C2FsIAK</td>\n",
       "      <td>NaN</td>\n",
       "    </tr>\n",
       "    <tr>\n",
       "      <th>1</th>\n",
       "      <td>a0fA0000000K0zpIAC</td>\n",
       "      <td>a0gA0000003C2FsIAK</td>\n",
       "      <td>NaN</td>\n",
       "    </tr>\n",
       "    <tr>\n",
       "      <th>2</th>\n",
       "      <td>a0fA0000000K0zqIAC</td>\n",
       "      <td>a0gA0000003C2FsIAK</td>\n",
       "      <td>NaN</td>\n",
       "    </tr>\n",
       "    <tr>\n",
       "      <th>3</th>\n",
       "      <td>a0fA0000000K0zrIAC</td>\n",
       "      <td>a0gA0000003C2FsIAK</td>\n",
       "      <td>NaN</td>\n",
       "    </tr>\n",
       "    <tr>\n",
       "      <th>4</th>\n",
       "      <td>a0fA0000000K0zsIAC</td>\n",
       "      <td>a0gA0000003C2FsIAK</td>\n",
       "      <td>NaN</td>\n",
       "    </tr>\n",
       "  </tbody>\n",
       "</table>\n",
       "</div>"
      ],
      "text/plain": [
       "            CommentId            SurveyId Comment\n",
       "0  a0fA0000000K0zoIAC  a0gA0000003C2FsIAK     NaN\n",
       "1  a0fA0000000K0zpIAC  a0gA0000003C2FsIAK     NaN\n",
       "2  a0fA0000000K0zqIAC  a0gA0000003C2FsIAK     NaN\n",
       "3  a0fA0000000K0zrIAC  a0gA0000003C2FsIAK     NaN\n",
       "4  a0fA0000000K0zsIAC  a0gA0000003C2FsIAK     NaN"
      ]
     },
     "execution_count": 4,
     "metadata": {},
     "output_type": "execute_result"
    }
   ],
   "source": [
    "survey_df.head()"
   ]
  },
  {
   "cell_type": "code",
   "execution_count": 5,
   "metadata": {},
   "outputs": [
    {
     "data": {
      "text/html": [
       "<div>\n",
       "<style>\n",
       "    .dataframe thead tr:only-child th {\n",
       "        text-align: right;\n",
       "    }\n",
       "\n",
       "    .dataframe thead th {\n",
       "        text-align: left;\n",
       "    }\n",
       "\n",
       "    .dataframe tbody tr th {\n",
       "        vertical-align: top;\n",
       "    }\n",
       "</style>\n",
       "<table border=\"1\" class=\"dataframe\">\n",
       "  <thead>\n",
       "    <tr style=\"text-align: right;\">\n",
       "      <th></th>\n",
       "      <th>CommentId</th>\n",
       "      <th>SurveyId</th>\n",
       "      <th>Comment</th>\n",
       "    </tr>\n",
       "  </thead>\n",
       "  <tbody>\n",
       "    <tr>\n",
       "      <th>0</th>\n",
       "      <td>a0fA0000000K0zoIAC</td>\n",
       "      <td>a0gA0000003C2FsIAK</td>\n",
       "      <td>NaN</td>\n",
       "    </tr>\n",
       "    <tr>\n",
       "      <th>1</th>\n",
       "      <td>a0fA0000000K0zpIAC</td>\n",
       "      <td>a0gA0000003C2FsIAK</td>\n",
       "      <td>NaN</td>\n",
       "    </tr>\n",
       "    <tr>\n",
       "      <th>2</th>\n",
       "      <td>a0fA0000000K0zqIAC</td>\n",
       "      <td>a0gA0000003C2FsIAK</td>\n",
       "      <td>NaN</td>\n",
       "    </tr>\n",
       "    <tr>\n",
       "      <th>3</th>\n",
       "      <td>a0fA0000000K0zrIAC</td>\n",
       "      <td>a0gA0000003C2FsIAK</td>\n",
       "      <td>NaN</td>\n",
       "    </tr>\n",
       "    <tr>\n",
       "      <th>4</th>\n",
       "      <td>a0fA0000000K0zsIAC</td>\n",
       "      <td>a0gA0000003C2FsIAK</td>\n",
       "      <td>NaN</td>\n",
       "    </tr>\n",
       "  </tbody>\n",
       "</table>\n",
       "</div>"
      ],
      "text/plain": [
       "            CommentId            SurveyId Comment\n",
       "0  a0fA0000000K0zoIAC  a0gA0000003C2FsIAK     NaN\n",
       "1  a0fA0000000K0zpIAC  a0gA0000003C2FsIAK     NaN\n",
       "2  a0fA0000000K0zqIAC  a0gA0000003C2FsIAK     NaN\n",
       "3  a0fA0000000K0zrIAC  a0gA0000003C2FsIAK     NaN\n",
       "4  a0fA0000000K0zsIAC  a0gA0000003C2FsIAK     NaN"
      ]
     },
     "execution_count": 5,
     "metadata": {},
     "output_type": "execute_result"
    }
   ],
   "source": [
    "survey_df[survey_df['SurveyId'] == 'a0gA0000003C2FsIAK'].head()"
   ]
  },
  {
   "cell_type": "code",
   "execution_count": 6,
   "metadata": {},
   "outputs": [
    {
     "data": {
      "text/html": [
       "<div>\n",
       "<style>\n",
       "    .dataframe thead tr:only-child th {\n",
       "        text-align: right;\n",
       "    }\n",
       "\n",
       "    .dataframe thead th {\n",
       "        text-align: left;\n",
       "    }\n",
       "\n",
       "    .dataframe tbody tr th {\n",
       "        vertical-align: top;\n",
       "    }\n",
       "</style>\n",
       "<table border=\"1\" class=\"dataframe\">\n",
       "  <thead>\n",
       "    <tr style=\"text-align: right;\">\n",
       "      <th></th>\n",
       "      <th>CommentId</th>\n",
       "      <th>SurveyId</th>\n",
       "      <th>Comment</th>\n",
       "    </tr>\n",
       "  </thead>\n",
       "  <tbody>\n",
       "    <tr>\n",
       "      <th>0</th>\n",
       "      <td>a0fA0000000K0zoIAC</td>\n",
       "      <td>a0gA0000003C2FsIAK</td>\n",
       "      <td>NaN</td>\n",
       "    </tr>\n",
       "  </tbody>\n",
       "</table>\n",
       "</div>"
      ],
      "text/plain": [
       "            CommentId            SurveyId Comment\n",
       "0  a0fA0000000K0zoIAC  a0gA0000003C2FsIAK     NaN"
      ]
     },
     "execution_count": 6,
     "metadata": {},
     "output_type": "execute_result"
    }
   ],
   "source": [
    "survey_df[(survey_df['SurveyId'] == 'a0gA0000003C2FsIAK') & (survey_df['CommentId'] == 'a0fA0000000K0zoIAC')].head()"
   ]
  },
  {
   "cell_type": "markdown",
   "metadata": {},
   "source": [
    "## Data Cleaning & Prep"
   ]
  },
  {
   "cell_type": "code",
   "execution_count": 7,
   "metadata": {},
   "outputs": [
    {
     "data": {
      "text/plain": [
       "(63841, 3)"
      ]
     },
     "execution_count": 7,
     "metadata": {},
     "output_type": "execute_result"
    }
   ],
   "source": [
    "survey_df.shape"
   ]
  },
  {
   "cell_type": "code",
   "execution_count": 8,
   "metadata": {},
   "outputs": [
    {
     "data": {
      "text/plain": [
       "117"
      ]
     },
     "execution_count": 8,
     "metadata": {},
     "output_type": "execute_result"
    }
   ],
   "source": [
    "survey_df['SurveyId'].nunique()"
   ]
  },
  {
   "cell_type": "code",
   "execution_count": 9,
   "metadata": {},
   "outputs": [
    {
     "data": {
      "text/plain": [
       "63841"
      ]
     },
     "execution_count": 9,
     "metadata": {},
     "output_type": "execute_result"
    }
   ],
   "source": [
    "survey_df['CommentId'].nunique()"
   ]
  },
  {
   "cell_type": "code",
   "execution_count": 10,
   "metadata": {},
   "outputs": [
    {
     "data": {
      "text/plain": [
       "a0gA0000000JYNXIA4    8412\n",
       "a0gA0000006H6eUIAS    4967\n",
       "a0gA0000000JKG5IAO    4654\n",
       "a0gA0000003C2FsIAK    3765\n",
       "a0gA0000000JKGAIA4    3593\n",
       "a0gA0000000Is79IAC    3382\n",
       "a0gA0000005CpPyIAK    2698\n",
       "a0gA0000005Ckb6IAC    2302\n",
       "a0gA0000005CkbBIAS    2273\n",
       "a0gA0000000JL6GIAW    2215\n",
       "Name: SurveyId, dtype: int64"
      ]
     },
     "execution_count": 10,
     "metadata": {},
     "output_type": "execute_result"
    }
   ],
   "source": [
    "survey_df['SurveyId'].value_counts().head(10)"
   ]
  },
  {
   "cell_type": "code",
   "execution_count": 11,
   "metadata": {},
   "outputs": [
    {
     "data": {
      "text/plain": [
       "(54815, 3)"
      ]
     },
     "execution_count": 11,
     "metadata": {},
     "output_type": "execute_result"
    }
   ],
   "source": [
    "survey_df[pd.isnull(survey_df['Comment'])].shape"
   ]
  },
  {
   "cell_type": "code",
   "execution_count": 12,
   "metadata": {
    "collapsed": true
   },
   "outputs": [],
   "source": [
    "survey_df_clean = survey_df[~pd.isnull(survey_df['Comment'])].copy()"
   ]
  },
  {
   "cell_type": "code",
   "execution_count": 13,
   "metadata": {},
   "outputs": [
    {
     "data": {
      "text/html": [
       "<div>\n",
       "<style>\n",
       "    .dataframe thead tr:only-child th {\n",
       "        text-align: right;\n",
       "    }\n",
       "\n",
       "    .dataframe thead th {\n",
       "        text-align: left;\n",
       "    }\n",
       "\n",
       "    .dataframe tbody tr th {\n",
       "        vertical-align: top;\n",
       "    }\n",
       "</style>\n",
       "<table border=\"1\" class=\"dataframe\">\n",
       "  <thead>\n",
       "    <tr style=\"text-align: right;\">\n",
       "      <th></th>\n",
       "      <th>CommentId</th>\n",
       "      <th>SurveyId</th>\n",
       "      <th>Comment</th>\n",
       "    </tr>\n",
       "  </thead>\n",
       "  <tbody>\n",
       "    <tr>\n",
       "      <th>35</th>\n",
       "      <td>a0fA0000000K10NIAS</td>\n",
       "      <td>a0gA0000003C2FsIAK</td>\n",
       "      <td>dave.w.wright@gmail.com</td>\n",
       "    </tr>\n",
       "    <tr>\n",
       "      <th>70</th>\n",
       "      <td>a0fA0000000K10wIAC</td>\n",
       "      <td>a0gA0000003C2FsIAK</td>\n",
       "      <td>support</td>\n",
       "    </tr>\n",
       "    <tr>\n",
       "      <th>72</th>\n",
       "      <td>a0fA0000000K10yIAC</td>\n",
       "      <td>a0gA0000003C2FsIAK</td>\n",
       "      <td>tkelly@t-edward.com</td>\n",
       "    </tr>\n",
       "    <tr>\n",
       "      <th>108</th>\n",
       "      <td>a0fA0000000K11YIAS</td>\n",
       "      <td>a0gA0000003C2FsIAK</td>\n",
       "      <td>cdevita@growthprocess.com</td>\n",
       "    </tr>\n",
       "    <tr>\n",
       "      <th>181</th>\n",
       "      <td>a0fA0000000K17tIAC</td>\n",
       "      <td>a0gA0000003C2FsIAK</td>\n",
       "      <td>james.ruttley@ideas.com</td>\n",
       "    </tr>\n",
       "  </tbody>\n",
       "</table>\n",
       "</div>"
      ],
      "text/plain": [
       "              CommentId            SurveyId                    Comment\n",
       "35   a0fA0000000K10NIAS  a0gA0000003C2FsIAK    dave.w.wright@gmail.com\n",
       "70   a0fA0000000K10wIAC  a0gA0000003C2FsIAK                    support\n",
       "72   a0fA0000000K10yIAC  a0gA0000003C2FsIAK        tkelly@t-edward.com\n",
       "108  a0fA0000000K11YIAS  a0gA0000003C2FsIAK  cdevita@growthprocess.com\n",
       "181  a0fA0000000K17tIAC  a0gA0000003C2FsIAK    james.ruttley@ideas.com"
      ]
     },
     "execution_count": 13,
     "metadata": {},
     "output_type": "execute_result"
    }
   ],
   "source": [
    "survey_df_clean.head()"
   ]
  },
  {
   "cell_type": "code",
   "execution_count": 14,
   "metadata": {
    "collapsed": true
   },
   "outputs": [],
   "source": [
    "def find_word_count(input_string):\n",
    "    word_list = input_string.split()\n",
    "    word_len = len(word_list)\n",
    "    return word_len"
   ]
  },
  {
   "cell_type": "code",
   "execution_count": 15,
   "metadata": {},
   "outputs": [
    {
     "data": {
      "text/plain": [
       "5"
      ]
     },
     "execution_count": 15,
     "metadata": {},
     "output_type": "execute_result"
    }
   ],
   "source": [
    "find_word_count(\"this is a test string\")"
   ]
  },
  {
   "cell_type": "code",
   "execution_count": 16,
   "metadata": {
    "collapsed": true
   },
   "outputs": [],
   "source": [
    "#survey_df_clean['Comment'].apply(len)"
   ]
  },
  {
   "cell_type": "code",
   "execution_count": 17,
   "metadata": {
    "collapsed": true
   },
   "outputs": [],
   "source": [
    "survey_df_clean['WordCount'] = survey_df_clean['Comment'].apply(find_word_count)"
   ]
  },
  {
   "cell_type": "code",
   "execution_count": 18,
   "metadata": {},
   "outputs": [
    {
     "data": {
      "text/html": [
       "<div>\n",
       "<style>\n",
       "    .dataframe thead tr:only-child th {\n",
       "        text-align: right;\n",
       "    }\n",
       "\n",
       "    .dataframe thead th {\n",
       "        text-align: left;\n",
       "    }\n",
       "\n",
       "    .dataframe tbody tr th {\n",
       "        vertical-align: top;\n",
       "    }\n",
       "</style>\n",
       "<table border=\"1\" class=\"dataframe\">\n",
       "  <thead>\n",
       "    <tr style=\"text-align: right;\">\n",
       "      <th></th>\n",
       "      <th>CommentId</th>\n",
       "      <th>SurveyId</th>\n",
       "      <th>Comment</th>\n",
       "      <th>WordCount</th>\n",
       "    </tr>\n",
       "  </thead>\n",
       "  <tbody>\n",
       "    <tr>\n",
       "      <th>35</th>\n",
       "      <td>a0fA0000000K10NIAS</td>\n",
       "      <td>a0gA0000003C2FsIAK</td>\n",
       "      <td>dave.w.wright@gmail.com</td>\n",
       "      <td>1</td>\n",
       "    </tr>\n",
       "    <tr>\n",
       "      <th>70</th>\n",
       "      <td>a0fA0000000K10wIAC</td>\n",
       "      <td>a0gA0000003C2FsIAK</td>\n",
       "      <td>support</td>\n",
       "      <td>1</td>\n",
       "    </tr>\n",
       "    <tr>\n",
       "      <th>72</th>\n",
       "      <td>a0fA0000000K10yIAC</td>\n",
       "      <td>a0gA0000003C2FsIAK</td>\n",
       "      <td>tkelly@t-edward.com</td>\n",
       "      <td>1</td>\n",
       "    </tr>\n",
       "    <tr>\n",
       "      <th>108</th>\n",
       "      <td>a0fA0000000K11YIAS</td>\n",
       "      <td>a0gA0000003C2FsIAK</td>\n",
       "      <td>cdevita@growthprocess.com</td>\n",
       "      <td>1</td>\n",
       "    </tr>\n",
       "    <tr>\n",
       "      <th>181</th>\n",
       "      <td>a0fA0000000K17tIAC</td>\n",
       "      <td>a0gA0000003C2FsIAK</td>\n",
       "      <td>james.ruttley@ideas.com</td>\n",
       "      <td>1</td>\n",
       "    </tr>\n",
       "  </tbody>\n",
       "</table>\n",
       "</div>"
      ],
      "text/plain": [
       "              CommentId            SurveyId                    Comment  \\\n",
       "35   a0fA0000000K10NIAS  a0gA0000003C2FsIAK    dave.w.wright@gmail.com   \n",
       "70   a0fA0000000K10wIAC  a0gA0000003C2FsIAK                    support   \n",
       "72   a0fA0000000K10yIAC  a0gA0000003C2FsIAK        tkelly@t-edward.com   \n",
       "108  a0fA0000000K11YIAS  a0gA0000003C2FsIAK  cdevita@growthprocess.com   \n",
       "181  a0fA0000000K17tIAC  a0gA0000003C2FsIAK    james.ruttley@ideas.com   \n",
       "\n",
       "     WordCount  \n",
       "35           1  \n",
       "70           1  \n",
       "72           1  \n",
       "108          1  \n",
       "181          1  "
      ]
     },
     "execution_count": 18,
     "metadata": {},
     "output_type": "execute_result"
    }
   ],
   "source": [
    "survey_df_clean.head()"
   ]
  },
  {
   "cell_type": "code",
   "execution_count": 19,
   "metadata": {},
   "outputs": [
    {
     "data": {
      "text/plain": [
       "count    9026.000000\n",
       "mean       25.091403\n",
       "std        36.322156\n",
       "min         1.000000\n",
       "25%         4.000000\n",
       "50%        13.000000\n",
       "75%        31.000000\n",
       "max       520.000000\n",
       "Name: WordCount, dtype: float64"
      ]
     },
     "execution_count": 19,
     "metadata": {},
     "output_type": "execute_result"
    }
   ],
   "source": [
    "survey_df_clean['WordCount'].describe()"
   ]
  },
  {
   "cell_type": "code",
   "execution_count": 20,
   "metadata": {},
   "outputs": [
    {
     "data": {
      "text/plain": [
       "array([ 'Move down south more to Santa Clara because the drive to and from the East Bay is murder.  The Fremont BART parking lot fills up so fast so early I was unable to ever park and ride from there and had to keep trying different stations each day which were usually all packed as well.\\r\\rHave fewer topics and make most of the sessions occur once or twice per day.  Once in the morning and one in the afternoon on one day or once in the morning on day 1 and one in the afternoon on day 2.  There were at least 3-4 topics I wanted to sit in on all going on at the same time so I had to make do with just the one session I could ever attend.  WIth fewer topics and having them occur more than once it would be easier for people to attend more of the topics that interest them.\\r\\rPay attention to session attendance.  I was only scanned once on the first day out of the 5 sessions I attended and in two cases, the rooms were so packed, some of us were sitting on the floor around the walls.  Topics that popular are a huge indicator that you need to hold it again later that day or the next day so some real time session adding could be useful.\\r\\rOne of the restaurants (the sausage one) was very strict about when you could use coupons and they even put out a sign that they were only taking 25 Pulse coupons on the third day, which was a very poor choice and I was surprised to see that someone running Pulse did not go over there to resolve that issue.\\r\\rLess marketing in the sessions.  There were a few sessions I attended, i would up walking out on because it was more about how we use our product to get CSM results.  The marketing should be left out in the kiosk area.  If these sessions still need to occur, then make it very clear in the description that thi is going to be focused on such and such company and their software.  This wasted my time when I could have attended another session that was interesting to me and would have been more useful.  \\r\\rHats!  What happened to the Pulse hats this year?  I still wear last years hat and was looking forward to a new version because love it so much!\\r\\rHave bigger sized shirts.  I wear a 2XL and the largest you had was XL.  That was very disappointing and made me feel left out because CSM\\'s apparently can\\'t be on the larger side.\\r\\rGet better quality of security guards.  Some were really good but many were very \"ghetto\" acting and spoke inappropriately.\\r\\rLower the price.  I am sure many others could not attend because the price was too high.  If not, then offer multiple pass types like a free third day pass, a first day pass, a second day pass and a first/second day pass all with different price points and ONE food coupon per day instead of two.'], dtype=object)"
      ]
     },
     "execution_count": 20,
     "metadata": {},
     "output_type": "execute_result"
    }
   ],
   "source": [
    "survey_df_clean[survey_df_clean['WordCount'] == 520]['Comment'].values"
   ]
  },
  {
   "cell_type": "code",
   "execution_count": 21,
   "metadata": {},
   "outputs": [
    {
     "name": "stdout",
     "output_type": "stream",
     "text": [
      "(9026, 4)\n",
      "(2313, 4)\n"
     ]
    }
   ],
   "source": [
    "print survey_df_clean.shape\n",
    "print survey_df_clean[survey_df_clean['WordCount'] > 30].shape"
   ]
  },
  {
   "cell_type": "code",
   "execution_count": 22,
   "metadata": {
    "collapsed": true
   },
   "outputs": [],
   "source": [
    "survey_df_clean_more = survey_df_clean[survey_df_clean['WordCount']>30].copy()"
   ]
  },
  {
   "cell_type": "code",
   "execution_count": 23,
   "metadata": {},
   "outputs": [
    {
     "data": {
      "text/html": [
       "<div>\n",
       "<style>\n",
       "    .dataframe thead tr:only-child th {\n",
       "        text-align: right;\n",
       "    }\n",
       "\n",
       "    .dataframe thead th {\n",
       "        text-align: left;\n",
       "    }\n",
       "\n",
       "    .dataframe tbody tr th {\n",
       "        vertical-align: top;\n",
       "    }\n",
       "</style>\n",
       "<table border=\"1\" class=\"dataframe\">\n",
       "  <thead>\n",
       "    <tr style=\"text-align: right;\">\n",
       "      <th></th>\n",
       "      <th>CommentId</th>\n",
       "      <th>SurveyId</th>\n",
       "      <th>Comment</th>\n",
       "      <th>WordCount</th>\n",
       "    </tr>\n",
       "  </thead>\n",
       "  <tbody>\n",
       "    <tr>\n",
       "      <th>1578</th>\n",
       "      <td>a0fA0000000KqDUIA0</td>\n",
       "      <td>a0gA0000000IdYmIAK</td>\n",
       "      <td>Having a professional services person owning t...</td>\n",
       "      <td>49</td>\n",
       "    </tr>\n",
       "    <tr>\n",
       "      <th>1585</th>\n",
       "      <td>a0fA0000000KqDbIAK</td>\n",
       "      <td>a0gA0000000IdYmIAK</td>\n",
       "      <td>The responsiveness of the team was great.  The...</td>\n",
       "      <td>73</td>\n",
       "    </tr>\n",
       "    <tr>\n",
       "      <th>1599</th>\n",
       "      <td>a0fA0000000KtQiIAK</td>\n",
       "      <td>a0gA0000000IdYmIAK</td>\n",
       "      <td>What worked: \\r* Tight ship - kept things on t...</td>\n",
       "      <td>90</td>\n",
       "    </tr>\n",
       "    <tr>\n",
       "      <th>2437</th>\n",
       "      <td>a0fA0000004Y4nbIAC</td>\n",
       "      <td>a0gA0000003CV6RIAW</td>\n",
       "      <td>I think there is so much potential for Gainsig...</td>\n",
       "      <td>56</td>\n",
       "    </tr>\n",
       "    <tr>\n",
       "      <th>2508</th>\n",
       "      <td>a0fA0000004YC2ZIAW</td>\n",
       "      <td>a0gA0000003CV6RIAW</td>\n",
       "      <td>We  rely heavily on Gainsight, and it is deepl...</td>\n",
       "      <td>58</td>\n",
       "    </tr>\n",
       "  </tbody>\n",
       "</table>\n",
       "</div>"
      ],
      "text/plain": [
       "               CommentId            SurveyId  \\\n",
       "1578  a0fA0000000KqDUIA0  a0gA0000000IdYmIAK   \n",
       "1585  a0fA0000000KqDbIAK  a0gA0000000IdYmIAK   \n",
       "1599  a0fA0000000KtQiIAK  a0gA0000000IdYmIAK   \n",
       "2437  a0fA0000004Y4nbIAC  a0gA0000003CV6RIAW   \n",
       "2508  a0fA0000004YC2ZIAW  a0gA0000003CV6RIAW   \n",
       "\n",
       "                                                Comment  WordCount  \n",
       "1578  Having a professional services person owning t...         49  \n",
       "1585  The responsiveness of the team was great.  The...         73  \n",
       "1599  What worked: \\r* Tight ship - kept things on t...         90  \n",
       "2437  I think there is so much potential for Gainsig...         56  \n",
       "2508  We  rely heavily on Gainsight, and it is deepl...         58  "
      ]
     },
     "execution_count": 23,
     "metadata": {},
     "output_type": "execute_result"
    }
   ],
   "source": [
    "survey_df_clean_more.head()"
   ]
  },
  {
   "cell_type": "code",
   "execution_count": 24,
   "metadata": {
    "collapsed": true
   },
   "outputs": [],
   "source": [
    "import os"
   ]
  },
  {
   "cell_type": "code",
   "execution_count": 25,
   "metadata": {
    "collapsed": true
   },
   "outputs": [],
   "source": [
    "for index,row in survey_df_clean_more.iterrows():\n",
    "    with open(\"/Users/aparajita/Documents/survey_data_of_tp/\"+str(row['SurveyId'])+\"_\"+str(row['CommentId'])+\".txt\",\n",
    "              'w') as file_for_write:\n",
    "        file_for_write.write(str(row['Comment']))"
   ]
  },
  {
   "cell_type": "code",
   "execution_count": 26,
   "metadata": {
    "collapsed": true
   },
   "outputs": [],
   "source": [
    "# for index,row in survey_df_clean_more.iterrows():\n",
    "#     print index,\"\\n\" ,row\n",
    "#     print row['CommentId']\n",
    "#     print row['SurveyId']\n",
    "#     print row['Comment']\n",
    "#     print \"/Users/aparajita/Documents/survey_data_of_tp/\" + str(row['SurveyId'])+ \"_\" + str(row['CommentId'])+\".txt\"\n",
    "#     break"
   ]
  },
  {
   "cell_type": "code",
   "execution_count": 27,
   "metadata": {
    "collapsed": true
   },
   "outputs": [],
   "source": [
    "# CORPUS_PATH = os.path.join('data', 'austen-brontë-split')\n",
    "CORPUS_PATH = \"/Users/aparajita/Documents/survey_data_of_tp\"\n",
    "\n",
    "filenames = sorted([os.path.join(CORPUS_PATH, fn) for fn in os.listdir(CORPUS_PATH)])"
   ]
  },
  {
   "cell_type": "code",
   "execution_count": 28,
   "metadata": {
    "collapsed": true
   },
   "outputs": [],
   "source": [
    "# filenames"
   ]
  },
  {
   "cell_type": "code",
   "execution_count": 29,
   "metadata": {},
   "outputs": [
    {
     "name": "stdout",
     "output_type": "stream",
     "text": [
      "2314\n"
     ]
    },
    {
     "data": {
      "text/plain": [
       "list"
      ]
     },
     "execution_count": 29,
     "metadata": {},
     "output_type": "execute_result"
    }
   ],
   "source": [
    "print len(filenames)\n",
    "type(filenames)"
   ]
  },
  {
   "cell_type": "code",
   "execution_count": 30,
   "metadata": {},
   "outputs": [
    {
     "data": {
      "text/plain": [
       "['/Users/aparajita/Documents/survey_data_of_tp/.DS_Store',\n",
       " '/Users/aparajita/Documents/survey_data_of_tp/a0gA0000000IdYmIAK_a0fA0000000KqDUIA0.txt',\n",
       " '/Users/aparajita/Documents/survey_data_of_tp/a0gA0000000IdYmIAK_a0fA0000000KqDbIAK.txt',\n",
       " '/Users/aparajita/Documents/survey_data_of_tp/a0gA0000000IdYmIAK_a0fA0000000KtQiIAK.txt',\n",
       " '/Users/aparajita/Documents/survey_data_of_tp/a0gA0000000InCbIAK_a0fA0000005YTZzIAO.txt']"
      ]
     },
     "execution_count": 30,
     "metadata": {},
     "output_type": "execute_result"
    }
   ],
   "source": [
    "filenames[:5]"
   ]
  },
  {
   "cell_type": "code",
   "execution_count": 31,
   "metadata": {
    "collapsed": true
   },
   "outputs": [],
   "source": [
    "import numpy as np  # a conventional alias\n",
    "\n",
    "import sklearn.feature_extraction.text as text"
   ]
  },
  {
   "cell_type": "code",
   "execution_count": 32,
   "metadata": {
    "collapsed": true
   },
   "outputs": [],
   "source": [
    "vectorizer = text.CountVectorizer(input='filename', stop_words='english', min_df=20,encoding='latin')"
   ]
  },
  {
   "cell_type": "code",
   "execution_count": 33,
   "metadata": {
    "collapsed": true
   },
   "outputs": [],
   "source": [
    "#vectorizer"
   ]
  },
  {
   "cell_type": "code",
   "execution_count": 34,
   "metadata": {
    "collapsed": true
   },
   "outputs": [],
   "source": [
    "dtm = vectorizer.fit_transform(filenames).toarray()"
   ]
  },
  {
   "cell_type": "code",
   "execution_count": 35,
   "metadata": {},
   "outputs": [
    {
     "name": "stdout",
     "output_type": "stream",
     "text": [
      "(2314, 716)\n"
     ]
    },
    {
     "data": {
      "text/plain": [
       "array([[0, 0, 0, ..., 0, 0, 0],\n",
       "       [0, 0, 0, ..., 0, 0, 0],\n",
       "       [0, 0, 0, ..., 0, 0, 0],\n",
       "       ..., \n",
       "       [0, 0, 0, ..., 0, 0, 0],\n",
       "       [0, 0, 0, ..., 0, 0, 0],\n",
       "       [0, 0, 0, ..., 0, 0, 1]])"
      ]
     },
     "execution_count": 35,
     "metadata": {},
     "output_type": "execute_result"
    }
   ],
   "source": [
    "print dtm.shape\n",
    "dtm"
   ]
  },
  {
   "cell_type": "code",
   "execution_count": 36,
   "metadata": {
    "collapsed": true
   },
   "outputs": [],
   "source": [
    "vocab = np.array(vectorizer.get_feature_names())"
   ]
  },
  {
   "cell_type": "code",
   "execution_count": 37,
   "metadata": {},
   "outputs": [],
   "source": [
    "# vocab"
   ]
  },
  {
   "cell_type": "code",
   "execution_count": 38,
   "metadata": {},
   "outputs": [
    {
     "data": {
      "text/plain": [
       "(2314, 716)"
      ]
     },
     "execution_count": 38,
     "metadata": {},
     "output_type": "execute_result"
    }
   ],
   "source": [
    " dtm.shape"
   ]
  },
  {
   "cell_type": "code",
   "execution_count": 39,
   "metadata": {},
   "outputs": [
    {
     "data": {
      "text/plain": [
       "716"
      ]
     },
     "execution_count": 39,
     "metadata": {},
     "output_type": "execute_result"
    }
   ],
   "source": [
    "len(vocab)"
   ]
  },
  {
   "cell_type": "code",
   "execution_count": 40,
   "metadata": {
    "collapsed": true
   },
   "outputs": [],
   "source": [
    "from sklearn import decomposition"
   ]
  },
  {
   "cell_type": "code",
   "execution_count": 41,
   "metadata": {
    "collapsed": true
   },
   "outputs": [],
   "source": [
    "num_topics = 20"
   ]
  },
  {
   "cell_type": "code",
   "execution_count": 42,
   "metadata": {
    "collapsed": true
   },
   "outputs": [],
   "source": [
    "num_top_words = 20"
   ]
  },
  {
   "cell_type": "code",
   "execution_count": 43,
   "metadata": {
    "collapsed": true
   },
   "outputs": [],
   "source": [
    "clf = decomposition.NMF(n_components=num_topics, random_state=1)"
   ]
  },
  {
   "cell_type": "code",
   "execution_count": 44,
   "metadata": {
    "collapsed": true
   },
   "outputs": [],
   "source": [
    "doctopic = clf.fit_transform(dtm)"
   ]
  },
  {
   "cell_type": "code",
   "execution_count": 45,
   "metadata": {},
   "outputs": [
    {
     "data": {
      "text/plain": [
       "['__class__',\n",
       " '__delattr__',\n",
       " '__dict__',\n",
       " '__doc__',\n",
       " '__format__',\n",
       " '__getattribute__',\n",
       " '__getstate__',\n",
       " '__hash__',\n",
       " '__init__',\n",
       " '__module__',\n",
       " '__new__',\n",
       " '__reduce__',\n",
       " '__reduce_ex__',\n",
       " '__repr__',\n",
       " '__setattr__',\n",
       " '__setstate__',\n",
       " '__sizeof__',\n",
       " '__str__',\n",
       " '__subclasshook__',\n",
       " '__weakref__',\n",
       " '_get_param_names',\n",
       " 'alpha',\n",
       " 'beta',\n",
       " 'components_',\n",
       " 'eta',\n",
       " 'fit',\n",
       " 'fit_transform',\n",
       " 'get_params',\n",
       " 'init',\n",
       " 'inverse_transform',\n",
       " 'l1_ratio',\n",
       " 'max_iter',\n",
       " 'n_components',\n",
       " 'n_components_',\n",
       " 'n_iter_',\n",
       " 'nls_max_iter',\n",
       " 'random_state',\n",
       " 'reconstruction_err_',\n",
       " 'set_params',\n",
       " 'shuffle',\n",
       " 'solver',\n",
       " 'sparseness',\n",
       " 'tol',\n",
       " 'transform',\n",
       " 'verbose']"
      ]
     },
     "execution_count": 45,
     "metadata": {},
     "output_type": "execute_result"
    }
   ],
   "source": [
    "dir(clf)"
   ]
  },
  {
   "cell_type": "code",
   "execution_count": 97,
   "metadata": {},
   "outputs": [
    {
     "data": {
      "text/plain": [
       "list"
      ]
     },
     "execution_count": 97,
     "metadata": {},
     "output_type": "execute_result"
    }
   ],
   "source": [
    "topic_words = []\n",
    "for topic in clf.components_:\n",
    "    word_idx = np.argsort(topic)[::-1][0:num_top_words]\n",
    "    topic_words.append([vocab[i] for i in word_idx])\n",
    "type(topic_words)"
   ]
  },
  {
   "cell_type": "code",
   "execution_count": 76,
   "metadata": {},
   "outputs": [
    {
     "data": {
      "text/plain": [
       "[u'implementation',\n",
       " u'process',\n",
       " u'did',\n",
       " u'sales',\n",
       " u'project',\n",
       " u'plan',\n",
       " u'issues',\n",
       " u'took',\n",
       " u'end',\n",
       " u'job',\n",
       " u'better',\n",
       " u'good',\n",
       " u'overall',\n",
       " u'list',\n",
       " u'didn',\n",
       " u'level',\n",
       " u'understand',\n",
       " u'features',\n",
       " u'bit',\n",
       " u'clear']"
      ]
     },
     "execution_count": 76,
     "metadata": {},
     "output_type": "execute_result"
    }
   ],
   "source": [
    "topic_words[19]"
   ]
  },
  {
   "cell_type": "code",
   "execution_count": 53,
   "metadata": {},
   "outputs": [
    {
     "ename": "SyntaxError",
     "evalue": "invalid syntax (<ipython-input-53-cdde4c57231d>, line 2)",
     "output_type": "error",
     "traceback": [
      "\u001b[0;36m  File \u001b[0;32m\"<ipython-input-53-cdde4c57231d>\"\u001b[0;36m, line \u001b[0;32m2\u001b[0m\n\u001b[0;31m    tipPercent = (double)12*20/100\u001b[0m\n\u001b[0m                          ^\u001b[0m\n\u001b[0;31mSyntaxError\u001b[0m\u001b[0;31m:\u001b[0m invalid syntax\n"
     ]
    }
   ],
   "source": [
    "mealCost = 12\n",
    "tipPercent = (double)12*20/100\n",
    "print tipPercent\n",
    "taxPercent = 12*8/100\n",
    "print taxPercent\n",
    "\n",
    "totalCost = mealCost+tipPercent+taxPercent\n",
    "totalCost"
   ]
  },
  {
   "cell_type": "code",
   "execution_count": null,
   "metadata": {
    "collapsed": true
   },
   "outputs": [],
   "source": []
  }
 ],
 "metadata": {
  "kernelspec": {
   "display_name": "Python 2",
   "language": "python",
   "name": "python2"
  },
  "language_info": {
   "codemirror_mode": {
    "name": "ipython",
    "version": 2
   },
   "file_extension": ".py",
   "mimetype": "text/x-python",
   "name": "python",
   "nbconvert_exporter": "python",
   "pygments_lexer": "ipython2",
   "version": "2.7.13"
  }
 },
 "nbformat": 4,
 "nbformat_minor": 2
}
