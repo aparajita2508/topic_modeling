{
 "cells": [
  {
   "cell_type": "code",
   "execution_count": 1,
   "metadata": {
    "collapsed": true
   },
   "outputs": [],
   "source": [
    "from sklearn.datasets import fetch_20newsgroups\n",
    "from sklearn.feature_extraction.text import TfidfVectorizer, CountVectorizer\n",
    "from sklearn.decomposition import NMF, LatentDirichletAllocation\n",
    "no_features = 1000\n",
    "dataset = fetch_20newsgroups(shuffle = True, random_state = 1, remove=('headers', 'footers', 'quotes'))\n",
    "documents = dataset.data"
   ]
  },
  {
   "cell_type": "markdown",
   "metadata": {},
   "source": [
    "---"
   ]
  },
  {
   "cell_type": "markdown",
   "metadata": {},
   "source": [
    "### NMF is able to use tf-idf"
   ]
  },
  {
   "cell_type": "code",
   "execution_count": 2,
   "metadata": {},
   "outputs": [
    {
     "name": "stderr",
     "output_type": "stream",
     "text": [
      "/Users/aparajita/anaconda2/lib/python2.7/site-packages/sklearn/feature_extraction/text.py:1059: FutureWarning: Conversion of the second argument of issubdtype from `float` to `np.floating` is deprecated. In future, it will be treated as `np.float64 == np.dtype(float).type`.\n",
      "  if hasattr(X, 'dtype') and np.issubdtype(X.dtype, np.float):\n"
     ]
    }
   ],
   "source": [
    "#NMF is able to use tf-idf\n",
    "tfidf_vectorizer = TfidfVectorizer(max_df=0.95, min_df=2, max_features = no_features, stop_words='english')\n",
    "tfidf = tfidf_vectorizer.fit_transform(documents)\n",
    "tfidf_feature_names = tfidf_vectorizer.get_feature_names()"
   ]
  },
  {
   "cell_type": "markdown",
   "metadata": {},
   "source": [
    "---"
   ]
  },
  {
   "cell_type": "markdown",
   "metadata": {},
   "source": [
    "### LDA"
   ]
  },
  {
   "cell_type": "code",
   "execution_count": 3,
   "metadata": {
    "collapsed": true
   },
   "outputs": [],
   "source": [
    "# LDA can only use raw term counts for LDA because it is a probilistic graphical model\n",
    "tf_vectorizer = TfidfVectorizer(max_df=0.95, min_df=2, max_features = no_features, stop_words='english')\n",
    "tf = tf_vectorizer.fit_transform(documents)\n",
    "tf_feature_names = tf_vectorizer.get_feature_names()\n",
    "no_topics = 10"
   ]
  },
  {
   "cell_type": "markdown",
   "metadata": {},
   "source": [
    "---"
   ]
  },
  {
   "cell_type": "markdown",
   "metadata": {},
   "source": [
    "### # NMF and LDA with Scikit Learn"
   ]
  },
  {
   "cell_type": "code",
   "execution_count": 4,
   "metadata": {
    "collapsed": true
   },
   "outputs": [],
   "source": [
    "# Run NMF\n",
    "nmf = NMF(n_components=no_topics, random_state = 1, alpha =.1, l1_ratio=.5, init = 'nndsvd').fit(tfidf)"
   ]
  },
  {
   "cell_type": "code",
   "execution_count": 5,
   "metadata": {
    "collapsed": true
   },
   "outputs": [],
   "source": [
    "# Run LDA\n",
    "lda = LatentDirichletAllocation(n_topics = no_topics, max_iter=5, learning_method='online', learning_offset=50, random_state=0).fit(tf)\n"
   ]
  },
  {
   "cell_type": "markdown",
   "metadata": {},
   "source": [
    "---"
   ]
  },
  {
   "cell_type": "markdown",
   "metadata": {},
   "source": [
    "### # Displaying and Evaluating Topics"
   ]
  },
  {
   "cell_type": "code",
   "execution_count": 6,
   "metadata": {},
   "outputs": [
    {
     "name": "stdout",
     "output_type": "stream",
     "text": [
      "NMF topics\n",
      "Topic 0:\n",
      "don just people think like know time good right ve\n",
      "Topic 1:\n",
      "card video monitor drivers cards bus vga driver color ram\n",
      "Topic 2:\n",
      "god jesus bible christ faith believe christian christians church sin\n",
      "Topic 3:\n",
      "game team year games season players play hockey win player\n",
      "Topic 4:\n",
      "car new 00 sale 10 price offer condition shipping 20\n",
      "Topic 5:\n",
      "thanks does know advance mail hi anybody info looking help\n",
      "Topic 6:\n",
      "windows file use files dos window program using problem running\n",
      "Topic 7:\n",
      "edu soon cs university com email internet article ftp send\n",
      "Topic 8:\n",
      "key chip encryption clipper keys government escrow public use algorithm\n",
      "Topic 9:\n",
      "drive scsi drives hard disk ide controller floppy cd mac\n",
      "\n",
      "LDA topics\n",
      "Topic 0:\n",
      "gm san ax ah cs 800 ca 1993 cx w7\n",
      "Topic 1:\n",
      "god people don think just say know does believe jesus\n",
      "Topic 2:\n",
      "address mr internet organization values edu major science court paul\n",
      "Topic 3:\n",
      "like just don car people time know think good years\n",
      "Topic 4:\n",
      "thanks windows use know does edu like drive card mail\n",
      "Topic 5:\n",
      "window mouse ground widget keyboard thanks wire application event manager\n",
      "Topic 6:\n",
      "game team games year players season play hockey win league\n",
      "Topic 7:\n",
      "1st christians runs house son god bible men aren just\n",
      "Topic 8:\n",
      "israel israeli jews jewish land peace war test just killed\n",
      "Topic 9:\n",
      "water hot higher better used engine model 200 printer hp\n"
     ]
    }
   ],
   "source": [
    "def display_topics(model, feature_names, no_top_words):\n",
    "    for topic_idx, topic in enumerate(model.components_):\n",
    "        print \"Topic %d:\" % (topic_idx)\n",
    "        print \" \".join([feature_names[i]\n",
    "                        for i in topic.argsort()[:-no_top_words - 1:-1]])\n",
    "\n",
    "no_top_words = 10\n",
    "print \"NMF topics\"\n",
    "display_topics(nmf, tfidf_feature_names, no_top_words)\n",
    "print \"\\nLDA topics\"\n",
    "display_topics(lda, tf_feature_names, no_top_words)"
   ]
  }
 ],
 "metadata": {
  "kernelspec": {
   "display_name": "Python 2",
   "language": "python",
   "name": "python2"
  },
  "language_info": {
   "codemirror_mode": {
    "name": "ipython",
    "version": 2
   },
   "file_extension": ".py",
   "mimetype": "text/x-python",
   "name": "python",
   "nbconvert_exporter": "python",
   "pygments_lexer": "ipython2",
   "version": "2.7.14"
  }
 },
 "nbformat": 4,
 "nbformat_minor": 2
}
