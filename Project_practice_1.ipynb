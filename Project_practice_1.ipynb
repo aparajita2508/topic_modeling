{
 "cells": [
  {
   "cell_type": "code",
   "execution_count": 5,
   "metadata": {},
   "outputs": [
    {
     "name": "stdout",
     "output_type": "stream",
     "text": [
      "0.20.1\n",
      "2.0.2\n"
     ]
    }
   ],
   "source": [
    "import matplotlib\n",
    "import pandas\n",
    "print pandas.__version__\n",
    "print matplotlib.__version__\n",
    "appu = 'hello world'\n",
    "#print appu[3:7]"
   ]
  },
  {
   "cell_type": "code",
   "execution_count": 11,
   "metadata": {},
   "outputs": [
    {
     "name": "stdout",
     "output_type": "stream",
     "text": [
      "90\n"
     ]
    }
   ],
   "source": [
    "list1 = ['appu','shivam','jyotsana']\n",
    "#print list1[1]\n",
    "subjects = ['maths','physics','chem','bio']\n",
    "firstyearmarks = [50,60,70,80]\n",
    "secondyearmarks = [45,76,90,55]\n",
    "thirdyearmarks = [54,66,43,65]\n",
    "transcript = [firstyearmarks, secondyearmarks, thirdyearmarks]\n",
    "#print firstyearmarks[2]\n",
    "print transcript[1][2]"
   ]
  },
  {
   "cell_type": "code",
   "execution_count": 17,
   "metadata": {},
   "outputs": [
    {
     "name": "stdout",
     "output_type": "stream",
     "text": [
      "bodhisatta.maiti@gmail.com\n"
     ]
    },
    {
     "data": {
      "text/plain": [
       "'\\nhhhhhha\\n'"
      ]
     },
     "execution_count": 17,
     "metadata": {},
     "output_type": "execute_result"
    }
   ],
   "source": [
    "print \"bodhisatta.maiti@gmail.com\"\n",
    "\n",
    "'''\n",
    "hhhhhha\n",
    "'''"
   ]
  },
  {
   "cell_type": "code",
   "execution_count": 18,
   "metadata": {},
   "outputs": [
    {
     "name": "stdout",
     "output_type": "stream",
     "text": [
      "the index is: 0\n",
      "the index is: 1\n",
      "the index is: 2\n",
      "the index is: 3\n",
      "the index is: 4\n",
      "the index is: 5\n",
      "the index is: 6\n",
      "the index is: 7\n",
      "the index is: 8\n",
      "the index is: 9\n"
     ]
    }
   ],
   "source": [
    "for i in range(10):\n",
    "    print 'the index is:',i"
   ]
  },
  {
   "cell_type": "code",
   "execution_count": 27,
   "metadata": {},
   "outputs": [
    {
     "name": "stdout",
     "output_type": "stream",
     "text": [
      "<type 'tuple'>\n"
     ]
    }
   ],
   "source": [
    "a = 'appu'\n",
    "b = {\n",
    "    'name':'bodhi'\n",
    "}\n",
    "c = {1,1,3,5,3}\n",
    "d = {}\n",
    "e = set()\n",
    "f = (10,20,50)\n",
    "#print c\n",
    "print type(f)"
   ]
  },
  {
   "cell_type": "code",
   "execution_count": 34,
   "metadata": {},
   "outputs": [
    {
     "name": "stdout",
     "output_type": "stream",
     "text": [
      "<type 'numpy.ndarray'>\n",
      "<type 'list'>\n",
      "[ 9 11 14 16]\n",
      "[2, 3, 5, 6, 7, 8, 9, 10]\n"
     ]
    }
   ],
   "source": [
    "from numpy import *\n",
    "\n",
    "a = array([2,3,5,6])\n",
    "b = array([7,8,9,10])\n",
    "c = [2,3,5,6]\n",
    "d = [7,8,9,10]\n",
    "print type(a)\n",
    "print type(c)\n",
    "print a+b\n",
    "print c+d"
   ]
  },
  {
   "cell_type": "code",
   "execution_count": 12,
   "metadata": {},
   "outputs": [
    {
     "name": "stdout",
     "output_type": "stream",
     "text": [
      "100000\n",
      "104000\n",
      "Sue.Smith@email.com\n",
      "('-->', 'Corey Schafer')\n",
      "('-->', 'Corey Schafer')\n",
      "('-->', 'Test Employee')\n",
      "('-->', 'Test Employee')\n"
     ]
    }
   ],
   "source": [
    "class Employee:\n",
    "\n",
    "    raise_amt = 1.04\n",
    "\n",
    "    def __init__(self, first, last, pay):\n",
    "        self.first = first\n",
    "        self.last = last\n",
    "        self.email = first + '.' + last + '@email.com'\n",
    "        self.pay = pay\n",
    "\n",
    "    def fullname(self):\n",
    "        return '{} {}'.format(self.first, self.last)\n",
    "    \n",
    "    def apply_raise(self):\n",
    "        self.pay = int(self.pay * self.raise_amt)\n",
    "\n",
    "appu = Employee('Aparajita', 'Pandey', 100000)\n",
    "print appu.pay\n",
    "appu.apply_raise()\n",
    "print appu.pay\n",
    "\n",
    "\n",
    "class Developer(Employee):\n",
    "    raise_amt = 1.10\n",
    "\n",
    "    def __init__(self, first, last, pay, prog_lang):\n",
    "        Employee.__init__(self,first, last, pay)\n",
    "        self.prog_lang = prog_lang\n",
    "\n",
    "\n",
    "class Manager(Employee):\n",
    "\n",
    "    def __init__(self, first, last, pay, employees=None):\n",
    "        Employee.__init__(self,first, last, pay)\n",
    "        if employees is None:\n",
    "            self.employees = []\n",
    "        else:\n",
    "            self.employees = employees\n",
    "\n",
    "    def add_emp(self, emp):\n",
    "        if emp not in self.employees:\n",
    "            self.employees.append(emp)\n",
    "\n",
    "    def remove_emp(self, emp):\n",
    "        if emp in self.employees:\n",
    "            self.employees.remove(emp)\n",
    "\n",
    "    def print_emps(self):\n",
    "        for emp in self.employees:\n",
    "            print('-->', emp.fullname())\n",
    "\n",
    "dev_1 = Developer('Corey', 'Schafer', 50000, 'Python')\n",
    "dev_2 = Developer('Test', 'Employee', 60000, 'Java')\n",
    "#classmethods staticmethods\n",
    "mgr_1 = Manager('Sue', 'Smith', 90000, [dev_1])\n",
    "\n",
    "print(mgr_1.email)\n",
    "mgr_1.print_emps()\n",
    "mgr_1.add_emp(dev_2)\n",
    "mgr_1.print_emps()\n",
    "mgr_1.remove_emp(dev_1)\n",
    "mgr_1.print_emps()"
   ]
  },
  {
   "cell_type": "code",
   "execution_count": null,
   "metadata": {
    "collapsed": true
   },
   "outputs": [],
   "source": [
    ""
   ]
  }
 ],
 "metadata": {
  "kernelspec": {
   "display_name": "Python 2",
   "language": "python",
   "name": "python2"
  },
  "language_info": {
   "codemirror_mode": {
    "name": "ipython",
    "version": 2.0
   },
   "file_extension": ".py",
   "mimetype": "text/x-python",
   "name": "python",
   "nbconvert_exporter": "python",
   "pygments_lexer": "ipython2",
   "version": "2.7.13"
  }
 },
 "nbformat": 4,
 "nbformat_minor": 0
}